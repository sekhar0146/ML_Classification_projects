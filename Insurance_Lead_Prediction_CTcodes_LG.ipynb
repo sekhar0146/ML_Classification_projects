{
  "nbformat": 4,
  "nbformat_minor": 0,
  "metadata": {
    "colab": {
      "name": "Insurance Lead Prediction_CTcodes_LG.ipynb",
      "provenance": [],
      "collapsed_sections": [],
      "mount_file_id": "1QhXl7Kln8qB2vd9nej8npQBUYf3vZ2AK",
      "authorship_tag": "ABX9TyOPYsy+cvniGofzKBWGEdO1",
      "include_colab_link": true
    },
    "kernelspec": {
      "name": "python3",
      "display_name": "Python 3"
    }
  },
  "cells": [
    {
      "cell_type": "markdown",
      "metadata": {
        "id": "view-in-github",
        "colab_type": "text"
      },
      "source": [
        "<a href=\"https://colab.research.google.com/github/sekhar0146/ML_Classification_projects/blob/main/Insurance_Lead_Prediction_CTcodes_LG.ipynb\" target=\"_parent\"><img src=\"https://colab.research.google.com/assets/colab-badge.svg\" alt=\"Open In Colab\"/></a>"
      ]
    },
    {
      "cell_type": "markdown",
      "metadata": {
        "id": "TRuSgAmQUu9O"
      },
      "source": [
        "#Health Insurance Lead Prediction - AV\r\n",
        "FinMan is a financial services company that provides various financial services like loan, investment funds, insurance etc. to its customers. FinMan wishes to cross-sell health insurance to the existing customers who may or may not hold insurance policies with the company. The company recommend health insurance to it's customers based on their profile once these customers land on the website. Customers might browse the recommended health insurance policy and consequently fill up a form to apply. When these customers fill-up the form, their Response towards the policy is considered positive and they are classified as a lead."
      ]
    },
    {
      "cell_type": "code",
      "metadata": {
        "id": "1SUTiEr7UTMW"
      },
      "source": [
        "import pandas as pd\r\n",
        "import numpy as np\r\n",
        "import matplotlib.pyplot as plt\r\n",
        "import seaborn as sns\r\n",
        "\r\n",
        "from sklearn.linear_model import LogisticRegression\r\n",
        "from sklearn.neighbors import KNeighborsClassifier\r\n",
        "from sklearn.ensemble import RandomForestClassifier\r\n",
        "from sklearn.preprocessing import LabelEncoder\r\n",
        "from sklearn.preprocessing import MinMaxScaler\r\n",
        "from xgboost import XGBClassifier\r\n",
        "from sklearn.preprocessing import OneHotEncoder\r\n",
        "import pickle\r\n",
        "from joblib import dump, load\r\n",
        "# Evaluation\r\n",
        "from sklearn.model_selection import train_test_split,cross_val_score\r\n",
        "from sklearn.model_selection import RandomizedSearchCV, GridSearchCV\r\n",
        "from sklearn.metrics import confusion_matrix, classification_report\r\n",
        "from sklearn.metrics import precision_score, recall_score, f1_score, accuracy_score\r\n",
        "from sklearn.metrics import plot_roc_curve"
      ],
      "execution_count": 538,
      "outputs": []
    },
    {
      "cell_type": "code",
      "metadata": {
        "id": "D4d_Vu80UTOs"
      },
      "source": [
        "# Import the data\r\n",
        "df = pd.read_csv(\"/content/drive/MyDrive/AV/train.csv\")\r\n",
        "testdf = pd.read_csv(\"/content/drive/MyDrive/AV/test.csv\")\r\n",
        "testfile = testdf"
      ],
      "execution_count": 539,
      "outputs": []
    },
    {
      "cell_type": "code",
      "metadata": {
        "colab": {
          "base_uri": "https://localhost:8080/"
        },
        "id": "Pgryley-UTRU",
        "outputId": "606252bf-b887-445c-db7d-2fa31e60a285"
      },
      "source": [
        "df.shape, testdf.shape"
      ],
      "execution_count": 540,
      "outputs": [
        {
          "output_type": "execute_result",
          "data": {
            "text/plain": [
              "((50882, 14), (21805, 13))"
            ]
          },
          "metadata": {
            "tags": []
          },
          "execution_count": 540
        }
      ]
    },
    {
      "cell_type": "code",
      "metadata": {
        "colab": {
          "base_uri": "https://localhost:8080/",
          "height": 233
        },
        "id": "nnlTcm7otsmU",
        "outputId": "9912f6fb-c503-4440-af90-8eb8e1c0ae5e"
      },
      "source": [
        "df.head()"
      ],
      "execution_count": 541,
      "outputs": [
        {
          "output_type": "execute_result",
          "data": {
            "text/html": [
              "<div>\n",
              "<style scoped>\n",
              "    .dataframe tbody tr th:only-of-type {\n",
              "        vertical-align: middle;\n",
              "    }\n",
              "\n",
              "    .dataframe tbody tr th {\n",
              "        vertical-align: top;\n",
              "    }\n",
              "\n",
              "    .dataframe thead th {\n",
              "        text-align: right;\n",
              "    }\n",
              "</style>\n",
              "<table border=\"1\" class=\"dataframe\">\n",
              "  <thead>\n",
              "    <tr style=\"text-align: right;\">\n",
              "      <th></th>\n",
              "      <th>ID</th>\n",
              "      <th>City_Code</th>\n",
              "      <th>Region_Code</th>\n",
              "      <th>Accomodation_Type</th>\n",
              "      <th>Reco_Insurance_Type</th>\n",
              "      <th>Upper_Age</th>\n",
              "      <th>Lower_Age</th>\n",
              "      <th>Is_Spouse</th>\n",
              "      <th>Health Indicator</th>\n",
              "      <th>Holding_Policy_Duration</th>\n",
              "      <th>Holding_Policy_Type</th>\n",
              "      <th>Reco_Policy_Cat</th>\n",
              "      <th>Reco_Policy_Premium</th>\n",
              "      <th>Response</th>\n",
              "    </tr>\n",
              "  </thead>\n",
              "  <tbody>\n",
              "    <tr>\n",
              "      <th>0</th>\n",
              "      <td>1</td>\n",
              "      <td>C3</td>\n",
              "      <td>3213</td>\n",
              "      <td>Rented</td>\n",
              "      <td>Individual</td>\n",
              "      <td>36</td>\n",
              "      <td>36</td>\n",
              "      <td>No</td>\n",
              "      <td>X1</td>\n",
              "      <td>14+</td>\n",
              "      <td>3.0</td>\n",
              "      <td>22</td>\n",
              "      <td>11628.0</td>\n",
              "      <td>0</td>\n",
              "    </tr>\n",
              "    <tr>\n",
              "      <th>1</th>\n",
              "      <td>2</td>\n",
              "      <td>C5</td>\n",
              "      <td>1117</td>\n",
              "      <td>Owned</td>\n",
              "      <td>Joint</td>\n",
              "      <td>75</td>\n",
              "      <td>22</td>\n",
              "      <td>No</td>\n",
              "      <td>X2</td>\n",
              "      <td>NaN</td>\n",
              "      <td>NaN</td>\n",
              "      <td>22</td>\n",
              "      <td>30510.0</td>\n",
              "      <td>0</td>\n",
              "    </tr>\n",
              "    <tr>\n",
              "      <th>2</th>\n",
              "      <td>3</td>\n",
              "      <td>C5</td>\n",
              "      <td>3732</td>\n",
              "      <td>Owned</td>\n",
              "      <td>Individual</td>\n",
              "      <td>32</td>\n",
              "      <td>32</td>\n",
              "      <td>No</td>\n",
              "      <td>NaN</td>\n",
              "      <td>1.0</td>\n",
              "      <td>1.0</td>\n",
              "      <td>19</td>\n",
              "      <td>7450.0</td>\n",
              "      <td>1</td>\n",
              "    </tr>\n",
              "    <tr>\n",
              "      <th>3</th>\n",
              "      <td>4</td>\n",
              "      <td>C24</td>\n",
              "      <td>4378</td>\n",
              "      <td>Owned</td>\n",
              "      <td>Joint</td>\n",
              "      <td>52</td>\n",
              "      <td>48</td>\n",
              "      <td>No</td>\n",
              "      <td>X1</td>\n",
              "      <td>14+</td>\n",
              "      <td>3.0</td>\n",
              "      <td>19</td>\n",
              "      <td>17780.0</td>\n",
              "      <td>0</td>\n",
              "    </tr>\n",
              "    <tr>\n",
              "      <th>4</th>\n",
              "      <td>5</td>\n",
              "      <td>C8</td>\n",
              "      <td>2190</td>\n",
              "      <td>Rented</td>\n",
              "      <td>Individual</td>\n",
              "      <td>44</td>\n",
              "      <td>44</td>\n",
              "      <td>No</td>\n",
              "      <td>X2</td>\n",
              "      <td>3.0</td>\n",
              "      <td>1.0</td>\n",
              "      <td>16</td>\n",
              "      <td>10404.0</td>\n",
              "      <td>0</td>\n",
              "    </tr>\n",
              "  </tbody>\n",
              "</table>\n",
              "</div>"
            ],
            "text/plain": [
              "   ID City_Code  Region_Code  ... Reco_Policy_Cat Reco_Policy_Premium  Response\n",
              "0   1        C3         3213  ...              22             11628.0         0\n",
              "1   2        C5         1117  ...              22             30510.0         0\n",
              "2   3        C5         3732  ...              19              7450.0         1\n",
              "3   4       C24         4378  ...              19             17780.0         0\n",
              "4   5        C8         2190  ...              16             10404.0         0\n",
              "\n",
              "[5 rows x 14 columns]"
            ]
          },
          "metadata": {
            "tags": []
          },
          "execution_count": 541
        }
      ]
    },
    {
      "cell_type": "code",
      "metadata": {
        "colab": {
          "base_uri": "https://localhost:8080/",
          "height": 233
        },
        "id": "rZNdAt9qtxDv",
        "outputId": "bbadba66-35ce-4038-b460-d3b1b3308783"
      },
      "source": [
        "testdf.head()"
      ],
      "execution_count": 542,
      "outputs": [
        {
          "output_type": "execute_result",
          "data": {
            "text/html": [
              "<div>\n",
              "<style scoped>\n",
              "    .dataframe tbody tr th:only-of-type {\n",
              "        vertical-align: middle;\n",
              "    }\n",
              "\n",
              "    .dataframe tbody tr th {\n",
              "        vertical-align: top;\n",
              "    }\n",
              "\n",
              "    .dataframe thead th {\n",
              "        text-align: right;\n",
              "    }\n",
              "</style>\n",
              "<table border=\"1\" class=\"dataframe\">\n",
              "  <thead>\n",
              "    <tr style=\"text-align: right;\">\n",
              "      <th></th>\n",
              "      <th>ID</th>\n",
              "      <th>City_Code</th>\n",
              "      <th>Region_Code</th>\n",
              "      <th>Accomodation_Type</th>\n",
              "      <th>Reco_Insurance_Type</th>\n",
              "      <th>Upper_Age</th>\n",
              "      <th>Lower_Age</th>\n",
              "      <th>Is_Spouse</th>\n",
              "      <th>Health Indicator</th>\n",
              "      <th>Holding_Policy_Duration</th>\n",
              "      <th>Holding_Policy_Type</th>\n",
              "      <th>Reco_Policy_Cat</th>\n",
              "      <th>Reco_Policy_Premium</th>\n",
              "    </tr>\n",
              "  </thead>\n",
              "  <tbody>\n",
              "    <tr>\n",
              "      <th>0</th>\n",
              "      <td>50883</td>\n",
              "      <td>C1</td>\n",
              "      <td>156</td>\n",
              "      <td>Owned</td>\n",
              "      <td>Individual</td>\n",
              "      <td>30</td>\n",
              "      <td>30</td>\n",
              "      <td>No</td>\n",
              "      <td>NaN</td>\n",
              "      <td>6.0</td>\n",
              "      <td>3.0</td>\n",
              "      <td>5</td>\n",
              "      <td>11934.0</td>\n",
              "    </tr>\n",
              "    <tr>\n",
              "      <th>1</th>\n",
              "      <td>50884</td>\n",
              "      <td>C4</td>\n",
              "      <td>7</td>\n",
              "      <td>Owned</td>\n",
              "      <td>Joint</td>\n",
              "      <td>69</td>\n",
              "      <td>68</td>\n",
              "      <td>Yes</td>\n",
              "      <td>X1</td>\n",
              "      <td>3.0</td>\n",
              "      <td>3.0</td>\n",
              "      <td>18</td>\n",
              "      <td>32204.8</td>\n",
              "    </tr>\n",
              "    <tr>\n",
              "      <th>2</th>\n",
              "      <td>50885</td>\n",
              "      <td>C1</td>\n",
              "      <td>564</td>\n",
              "      <td>Rented</td>\n",
              "      <td>Individual</td>\n",
              "      <td>28</td>\n",
              "      <td>28</td>\n",
              "      <td>No</td>\n",
              "      <td>X3</td>\n",
              "      <td>2.0</td>\n",
              "      <td>4.0</td>\n",
              "      <td>17</td>\n",
              "      <td>9240.0</td>\n",
              "    </tr>\n",
              "    <tr>\n",
              "      <th>3</th>\n",
              "      <td>50886</td>\n",
              "      <td>C3</td>\n",
              "      <td>1177</td>\n",
              "      <td>Rented</td>\n",
              "      <td>Individual</td>\n",
              "      <td>23</td>\n",
              "      <td>23</td>\n",
              "      <td>No</td>\n",
              "      <td>X3</td>\n",
              "      <td>3.0</td>\n",
              "      <td>3.0</td>\n",
              "      <td>18</td>\n",
              "      <td>9086.0</td>\n",
              "    </tr>\n",
              "    <tr>\n",
              "      <th>4</th>\n",
              "      <td>50887</td>\n",
              "      <td>C1</td>\n",
              "      <td>951</td>\n",
              "      <td>Owned</td>\n",
              "      <td>Individual</td>\n",
              "      <td>75</td>\n",
              "      <td>75</td>\n",
              "      <td>No</td>\n",
              "      <td>X3</td>\n",
              "      <td>NaN</td>\n",
              "      <td>NaN</td>\n",
              "      <td>5</td>\n",
              "      <td>22534.0</td>\n",
              "    </tr>\n",
              "  </tbody>\n",
              "</table>\n",
              "</div>"
            ],
            "text/plain": [
              "      ID City_Code  ...  Reco_Policy_Cat Reco_Policy_Premium\n",
              "0  50883        C1  ...                5             11934.0\n",
              "1  50884        C4  ...               18             32204.8\n",
              "2  50885        C1  ...               17              9240.0\n",
              "3  50886        C3  ...               18              9086.0\n",
              "4  50887        C1  ...                5             22534.0\n",
              "\n",
              "[5 rows x 13 columns]"
            ]
          },
          "metadata": {
            "tags": []
          },
          "execution_count": 542
        }
      ]
    },
    {
      "cell_type": "code",
      "metadata": {
        "colab": {
          "base_uri": "https://localhost:8080/"
        },
        "id": "Ns0QzqEE0i96",
        "outputId": "ab659733-e243-4714-db6e-1767a5b3d6f6"
      },
      "source": [
        "df.isna().sum()"
      ],
      "execution_count": 543,
      "outputs": [
        {
          "output_type": "execute_result",
          "data": {
            "text/plain": [
              "ID                             0\n",
              "City_Code                      0\n",
              "Region_Code                    0\n",
              "Accomodation_Type              0\n",
              "Reco_Insurance_Type            0\n",
              "Upper_Age                      0\n",
              "Lower_Age                      0\n",
              "Is_Spouse                      0\n",
              "Health Indicator           11691\n",
              "Holding_Policy_Duration    20251\n",
              "Holding_Policy_Type        20251\n",
              "Reco_Policy_Cat                0\n",
              "Reco_Policy_Premium            0\n",
              "Response                       0\n",
              "dtype: int64"
            ]
          },
          "metadata": {
            "tags": []
          },
          "execution_count": 543
        }
      ]
    },
    {
      "cell_type": "code",
      "metadata": {
        "id": "MgFWYcuf0jC-"
      },
      "source": [
        ""
      ],
      "execution_count": null,
      "outputs": []
    },
    {
      "cell_type": "code",
      "metadata": {
        "id": "YC2nHs-90jHB"
      },
      "source": [
        ""
      ],
      "execution_count": null,
      "outputs": []
    },
    {
      "cell_type": "code",
      "metadata": {
        "id": "kYlAipiz0jKN"
      },
      "source": [
        ""
      ],
      "execution_count": null,
      "outputs": []
    },
    {
      "cell_type": "code",
      "metadata": {
        "colab": {
          "base_uri": "https://localhost:8080/",
          "height": 388
        },
        "id": "PZqxZcxMZkKO",
        "outputId": "f9e7cf95-1561-49ba-efc1-fd9cab8698ee"
      },
      "source": [
        "plt.figure(figsize=(10,6))\r\n",
        "s = sns.countplot(x='Response', data=df)\r\n",
        "\r\n",
        "# Display value percentage on Response\r\n",
        "total = float(len(df))\r\n",
        "\r\n",
        "for p in s.patches:\r\n",
        "    percentage = '{:.1f}%'.format(100 * p.get_height()/total)\r\n",
        "    x = p.get_x() + p.get_width()\r\n",
        "    y = p.get_height()\r\n",
        "    s.annotate(percentage, (x, y), ha='right', size=14)\r\n",
        "plt.show();"
      ],
      "execution_count": null,
      "outputs": [
        {
          "output_type": "display_data",
          "data": {
            "image/png": "[encoded data removed]",
            "text/plain": [
              "<Figure size 720x432 with 1 Axes>"
            ]
          },
          "metadata": {
            "tags": [],
            "needs_background": "light"
          }
        }
      ]
    },
    {
      "cell_type": "code",
      "metadata": {
        "colab": {
          "base_uri": "https://localhost:8080/",
          "height": 389
        },
        "id": "fsUjc1mpaZRm",
        "outputId": "95b3fab3-f665-4a5b-eca6-f5cee3a08f24"
      },
      "source": [
        "# Understand the Reco_Policy_Premium distribution\r\n",
        "plt.figure(figsize=(10,6))\r\n",
        "sns.histplot(x='Reco_Policy_Premium', data=df);"
      ],
      "execution_count": null,
      "outputs": [
        {
          "output_type": "display_data",
          "data": {
            "image/png": "[encoded data removed]",
            "text/plain": [
              "<Figure size 720x432 with 1 Axes>"
            ]
          },
          "metadata": {
            "tags": [],
            "needs_background": "light"
          }
        }
      ]
    },
    {
      "cell_type": "code",
      "metadata": {
        "colab": {
          "base_uri": "https://localhost:8080/",
          "height": 441
        },
        "id": "ROfq1JUqbN4m",
        "outputId": "015d0a06-ba78-4e5a-bb50-a78126b2ccaf"
      },
      "source": [
        "plt.figure(figsize=(10,6))\r\n",
        "box_plot = sns.boxplot(x='Response', y='Reco_Policy_Premium', data=df)\r\n",
        "\r\n",
        "# Diaplay mean data labels in boxplot\r\n",
        "ax = box_plot.axes\r\n",
        "lines = ax.get_lines()\r\n",
        "categories = ax.get_xticks()\r\n",
        "ax.set_title(\"Median\", size=\"14\")\r\n",
        "\r\n",
        "for cat in categories:\r\n",
        "    # every 4th line at the interval of 6 is median line\r\n",
        "    # 0 -> p25 1 -> p75 2 -> lower whisker 3 -> upper whisker 4 -> p50 5 -> upper extreme value\r\n",
        "    y = round(lines[4+cat*6].get_ydata()[0],1) \r\n",
        "\r\n",
        "    ax.text(\r\n",
        "        cat, \r\n",
        "        y, \r\n",
        "        f'{y}', \r\n",
        "        ha='center', \r\n",
        "        va='center', \r\n",
        "        fontweight='bold', \r\n",
        "        size=14,\r\n",
        "        color='white',\r\n",
        "        bbox=dict(facecolor='#445A64'))\r\n",
        "\r\n",
        "box_plot.figure.tight_layout()"
      ],
      "execution_count": null,
      "outputs": [
        {
          "output_type": "display_data",
          "data": {
            "image/png": "[encoded data removed]",
            "text/plain": [
              "<Figure size 720x432 with 1 Axes>"
            ]
          },
          "metadata": {
            "tags": [],
            "needs_background": "light"
          }
        }
      ]
    },
    {
      "cell_type": "code",
      "metadata": {
        "colab": {
          "base_uri": "https://localhost:8080/",
          "height": 404
        },
        "id": "lnaCe4lMf4Hu",
        "outputId": "2b2aa6cf-5697-45ca-9b40-a7cd1b96c7a5"
      },
      "source": [
        "#==> Response vs Is_spouse\r\n",
        "plt.figure(figsize=(10,6))\r\n",
        "s = sns.countplot(x='Response', hue='Is_Spouse', data=df, palette='Set1')\r\n",
        "plt.title('joint insurance')\r\n",
        "# Display value percentage \r\n",
        "total = float(len(df))\r\n",
        "for p in s.patches:\r\n",
        "    percentage = '{:.1f}%'.format(100 * p.get_height()/total)\r\n",
        "    x = p.get_x() + p.get_width()\r\n",
        "    y = p.get_height()\r\n",
        "    s.annotate(percentage, (x, y), ha='right', size=14)"
      ],
      "execution_count": null,
      "outputs": [
        {
          "output_type": "display_data",
          "data": {
            "image/png": "[encoded data removed]",
            "text/plain": [
              "<Figure size 720x432 with 1 Axes>"
            ]
          },
          "metadata": {
            "tags": [],
            "needs_background": "light"
          }
        }
      ]
    },
    {
      "cell_type": "code",
      "metadata": {
        "colab": {
          "base_uri": "https://localhost:8080/",
          "height": 404
        },
        "id": "HJSfJDv1hELt",
        "outputId": "983fa232-a58a-498b-dc9a-82469050dce4"
      },
      "source": [
        "#==> Response vs Holding_Policy_Duration\r\n",
        "plt.figure(figsize=(20,6))\r\n",
        "s = sns.countplot(x='Response', hue='Holding_Policy_Duration', data=df, palette='Set1')\r\n",
        "plt.title('Check who are interested in duration(years)')\r\n",
        "# Display value percentage \r\n",
        "total = float(len(df))\r\n",
        "for p in s.patches:\r\n",
        "    percentage = '{:.1f}%'.format(100 * p.get_height()/total)\r\n",
        "    x = p.get_x() + p.get_width()\r\n",
        "    y = p.get_height()\r\n",
        "    s.annotate(percentage, (x, y), ha='right', size=12)"
      ],
      "execution_count": null,
      "outputs": [
        {
          "output_type": "display_data",
          "data": {
            "image/png": "[encoded data removed]",
            "text/plain": [
              "<Figure size 1440x432 with 1 Axes>"
            ]
          },
          "metadata": {
            "tags": [],
            "needs_background": "light"
          }
        }
      ]
    },
    {
      "cell_type": "code",
      "metadata": {
        "colab": {
          "base_uri": "https://localhost:8080/"
        },
        "id": "tzHvbieHUTTd",
        "outputId": "ae013414-fde8-4bac-e1d1-215893198bbd"
      },
      "source": [
        "df.isna().sum()"
      ],
      "execution_count": null,
      "outputs": [
        {
          "output_type": "execute_result",
          "data": {
            "text/plain": [
              "ID                             0\n",
              "City_Code                      0\n",
              "Region_Code                    0\n",
              "Accomodation_Type              0\n",
              "Reco_Insurance_Type            0\n",
              "Upper_Age                      0\n",
              "Lower_Age                      0\n",
              "Is_Spouse                      0\n",
              "Health Indicator           11691\n",
              "Holding_Policy_Duration    20251\n",
              "Holding_Policy_Type        20251\n",
              "Reco_Policy_Cat                0\n",
              "Reco_Policy_Premium            0\n",
              "Response                       0\n",
              "dtype: int64"
            ]
          },
          "metadata": {
            "tags": []
          },
          "execution_count": 7
        }
      ]
    },
    {
      "cell_type": "code",
      "metadata": {
        "colab": {
          "base_uri": "https://localhost:8080/",
          "height": 286
        },
        "id": "4Fl8vHErUTWF",
        "outputId": "0f811587-1b45-4237-a5dd-9614913af560"
      },
      "source": [
        "df.describe().T"
      ],
      "execution_count": null,
      "outputs": [
        {
          "output_type": "execute_result",
          "data": {
            "text/html": [
              "<div>\n",
              "<style scoped>\n",
              "    .dataframe tbody tr th:only-of-type {\n",
              "        vertical-align: middle;\n",
              "    }\n",
              "\n",
              "    .dataframe tbody tr th {\n",
              "        vertical-align: top;\n",
              "    }\n",
              "\n",
              "    .dataframe thead th {\n",
              "        text-align: right;\n",
              "    }\n",
              "</style>\n",
              "<table border=\"1\" class=\"dataframe\">\n",
              "  <thead>\n",
              "    <tr style=\"text-align: right;\">\n",
              "      <th></th>\n",
              "      <th>count</th>\n",
              "      <th>mean</th>\n",
              "      <th>std</th>\n",
              "      <th>min</th>\n",
              "      <th>25%</th>\n",
              "      <th>50%</th>\n",
              "      <th>75%</th>\n",
              "      <th>max</th>\n",
              "    </tr>\n",
              "  </thead>\n",
              "  <tbody>\n",
              "    <tr>\n",
              "      <th>ID</th>\n",
              "      <td>50882.0</td>\n",
              "      <td>25441.500000</td>\n",
              "      <td>14688.512535</td>\n",
              "      <td>1.0</td>\n",
              "      <td>12721.25</td>\n",
              "      <td>25441.5</td>\n",
              "      <td>38161.75</td>\n",
              "      <td>50882.0</td>\n",
              "    </tr>\n",
              "    <tr>\n",
              "      <th>Region_Code</th>\n",
              "      <td>50882.0</td>\n",
              "      <td>1732.788707</td>\n",
              "      <td>1424.081652</td>\n",
              "      <td>1.0</td>\n",
              "      <td>523.00</td>\n",
              "      <td>1391.0</td>\n",
              "      <td>2667.00</td>\n",
              "      <td>6194.0</td>\n",
              "    </tr>\n",
              "    <tr>\n",
              "      <th>Upper_Age</th>\n",
              "      <td>50882.0</td>\n",
              "      <td>44.856275</td>\n",
              "      <td>17.310271</td>\n",
              "      <td>18.0</td>\n",
              "      <td>28.00</td>\n",
              "      <td>44.0</td>\n",
              "      <td>59.00</td>\n",
              "      <td>75.0</td>\n",
              "    </tr>\n",
              "    <tr>\n",
              "      <th>Lower_Age</th>\n",
              "      <td>50882.0</td>\n",
              "      <td>42.738866</td>\n",
              "      <td>17.319375</td>\n",
              "      <td>16.0</td>\n",
              "      <td>27.00</td>\n",
              "      <td>40.0</td>\n",
              "      <td>57.00</td>\n",
              "      <td>75.0</td>\n",
              "    </tr>\n",
              "    <tr>\n",
              "      <th>Holding_Policy_Type</th>\n",
              "      <td>30631.0</td>\n",
              "      <td>2.439228</td>\n",
              "      <td>1.025923</td>\n",
              "      <td>1.0</td>\n",
              "      <td>1.00</td>\n",
              "      <td>3.0</td>\n",
              "      <td>3.00</td>\n",
              "      <td>4.0</td>\n",
              "    </tr>\n",
              "    <tr>\n",
              "      <th>Reco_Policy_Cat</th>\n",
              "      <td>50882.0</td>\n",
              "      <td>15.115188</td>\n",
              "      <td>6.340663</td>\n",
              "      <td>1.0</td>\n",
              "      <td>12.00</td>\n",
              "      <td>17.0</td>\n",
              "      <td>20.00</td>\n",
              "      <td>22.0</td>\n",
              "    </tr>\n",
              "    <tr>\n",
              "      <th>Reco_Policy_Premium</th>\n",
              "      <td>50882.0</td>\n",
              "      <td>14183.950069</td>\n",
              "      <td>6590.074873</td>\n",
              "      <td>2280.0</td>\n",
              "      <td>9248.00</td>\n",
              "      <td>13178.0</td>\n",
              "      <td>18096.00</td>\n",
              "      <td>43350.4</td>\n",
              "    </tr>\n",
              "    <tr>\n",
              "      <th>Response</th>\n",
              "      <td>50882.0</td>\n",
              "      <td>0.239947</td>\n",
              "      <td>0.427055</td>\n",
              "      <td>0.0</td>\n",
              "      <td>0.00</td>\n",
              "      <td>0.0</td>\n",
              "      <td>0.00</td>\n",
              "      <td>1.0</td>\n",
              "    </tr>\n",
              "  </tbody>\n",
              "</table>\n",
              "</div>"
            ],
            "text/plain": [
              "                       count          mean  ...       75%      max\n",
              "ID                   50882.0  25441.500000  ...  38161.75  50882.0\n",
              "Region_Code          50882.0   1732.788707  ...   2667.00   6194.0\n",
              "Upper_Age            50882.0     44.856275  ...     59.00     75.0\n",
              "Lower_Age            50882.0     42.738866  ...     57.00     75.0\n",
              "Holding_Policy_Type  30631.0      2.439228  ...      3.00      4.0\n",
              "Reco_Policy_Cat      50882.0     15.115188  ...     20.00     22.0\n",
              "Reco_Policy_Premium  50882.0  14183.950069  ...  18096.00  43350.4\n",
              "Response             50882.0      0.239947  ...      0.00      1.0\n",
              "\n",
              "[8 rows x 8 columns]"
            ]
          },
          "metadata": {
            "tags": []
          },
          "execution_count": 8
        }
      ]
    },
    {
      "cell_type": "code",
      "metadata": {
        "colab": {
          "base_uri": "https://localhost:8080/",
          "height": 286
        },
        "id": "dXPCj98_UTYa",
        "outputId": "2b054ae3-cd22-46b5-b08a-187538a91b4b"
      },
      "source": [
        "# Checking the correlation\r\n",
        "df.corr()"
      ],
      "execution_count": null,
      "outputs": [
        {
          "output_type": "execute_result",
          "data": {
            "text/html": [
              "<div>\n",
              "<style scoped>\n",
              "    .dataframe tbody tr th:only-of-type {\n",
              "        vertical-align: middle;\n",
              "    }\n",
              "\n",
              "    .dataframe tbody tr th {\n",
              "        vertical-align: top;\n",
              "    }\n",
              "\n",
              "    .dataframe thead th {\n",
              "        text-align: right;\n",
              "    }\n",
              "</style>\n",
              "<table border=\"1\" class=\"dataframe\">\n",
              "  <thead>\n",
              "    <tr style=\"text-align: right;\">\n",
              "      <th></th>\n",
              "      <th>ID</th>\n",
              "      <th>Region_Code</th>\n",
              "      <th>Upper_Age</th>\n",
              "      <th>Lower_Age</th>\n",
              "      <th>Holding_Policy_Type</th>\n",
              "      <th>Reco_Policy_Cat</th>\n",
              "      <th>Reco_Policy_Premium</th>\n",
              "      <th>Response</th>\n",
              "    </tr>\n",
              "  </thead>\n",
              "  <tbody>\n",
              "    <tr>\n",
              "      <th>ID</th>\n",
              "      <td>1.000000</td>\n",
              "      <td>-0.000465</td>\n",
              "      <td>-0.001725</td>\n",
              "      <td>0.001101</td>\n",
              "      <td>0.006649</td>\n",
              "      <td>-0.002235</td>\n",
              "      <td>-0.002350</td>\n",
              "      <td>0.005159</td>\n",
              "    </tr>\n",
              "    <tr>\n",
              "      <th>Region_Code</th>\n",
              "      <td>-0.000465</td>\n",
              "      <td>1.000000</td>\n",
              "      <td>-0.005649</td>\n",
              "      <td>-0.005928</td>\n",
              "      <td>0.011599</td>\n",
              "      <td>-0.065120</td>\n",
              "      <td>-0.010797</td>\n",
              "      <td>0.001121</td>\n",
              "    </tr>\n",
              "    <tr>\n",
              "      <th>Upper_Age</th>\n",
              "      <td>-0.001725</td>\n",
              "      <td>-0.005649</td>\n",
              "      <td>1.000000</td>\n",
              "      <td>0.921392</td>\n",
              "      <td>0.141890</td>\n",
              "      <td>0.025257</td>\n",
              "      <td>0.792689</td>\n",
              "      <td>0.002772</td>\n",
              "    </tr>\n",
              "    <tr>\n",
              "      <th>Lower_Age</th>\n",
              "      <td>0.001101</td>\n",
              "      <td>-0.005928</td>\n",
              "      <td>0.921392</td>\n",
              "      <td>1.000000</td>\n",
              "      <td>0.118028</td>\n",
              "      <td>0.021163</td>\n",
              "      <td>0.615739</td>\n",
              "      <td>-0.002099</td>\n",
              "    </tr>\n",
              "    <tr>\n",
              "      <th>Holding_Policy_Type</th>\n",
              "      <td>0.006649</td>\n",
              "      <td>0.011599</td>\n",
              "      <td>0.141890</td>\n",
              "      <td>0.118028</td>\n",
              "      <td>1.000000</td>\n",
              "      <td>0.079678</td>\n",
              "      <td>0.121342</td>\n",
              "      <td>0.009297</td>\n",
              "    </tr>\n",
              "    <tr>\n",
              "      <th>Reco_Policy_Cat</th>\n",
              "      <td>-0.002235</td>\n",
              "      <td>-0.065120</td>\n",
              "      <td>0.025257</td>\n",
              "      <td>0.021163</td>\n",
              "      <td>0.079678</td>\n",
              "      <td>1.000000</td>\n",
              "      <td>0.060989</td>\n",
              "      <td>0.114321</td>\n",
              "    </tr>\n",
              "    <tr>\n",
              "      <th>Reco_Policy_Premium</th>\n",
              "      <td>-0.002350</td>\n",
              "      <td>-0.010797</td>\n",
              "      <td>0.792689</td>\n",
              "      <td>0.615739</td>\n",
              "      <td>0.121342</td>\n",
              "      <td>0.060989</td>\n",
              "      <td>1.000000</td>\n",
              "      <td>0.007943</td>\n",
              "    </tr>\n",
              "    <tr>\n",
              "      <th>Response</th>\n",
              "      <td>0.005159</td>\n",
              "      <td>0.001121</td>\n",
              "      <td>0.002772</td>\n",
              "      <td>-0.002099</td>\n",
              "      <td>0.009297</td>\n",
              "      <td>0.114321</td>\n",
              "      <td>0.007943</td>\n",
              "      <td>1.000000</td>\n",
              "    </tr>\n",
              "  </tbody>\n",
              "</table>\n",
              "</div>"
            ],
            "text/plain": [
              "                           ID  Region_Code  ...  Reco_Policy_Premium  Response\n",
              "ID                   1.000000    -0.000465  ...            -0.002350  0.005159\n",
              "Region_Code         -0.000465     1.000000  ...            -0.010797  0.001121\n",
              "Upper_Age           -0.001725    -0.005649  ...             0.792689  0.002772\n",
              "Lower_Age            0.001101    -0.005928  ...             0.615739 -0.002099\n",
              "Holding_Policy_Type  0.006649     0.011599  ...             0.121342  0.009297\n",
              "Reco_Policy_Cat     -0.002235    -0.065120  ...             0.060989  0.114321\n",
              "Reco_Policy_Premium -0.002350    -0.010797  ...             1.000000  0.007943\n",
              "Response             0.005159     0.001121  ...             0.007943  1.000000\n",
              "\n",
              "[8 rows x 8 columns]"
            ]
          },
          "metadata": {
            "tags": []
          },
          "execution_count": 9
        }
      ]
    },
    {
      "cell_type": "code",
      "metadata": {
        "colab": {
          "base_uri": "https://localhost:8080/"
        },
        "id": "NpICGshlUTa-",
        "outputId": "edc0d803-5a6c-4856-c7ea-f22ca78744df"
      },
      "source": [
        "# # Checking the correlation corresponding to the target variable\r\n",
        "df.corr()['Response'].sort_values()"
      ],
      "execution_count": null,
      "outputs": [
        {
          "output_type": "execute_result",
          "data": {
            "text/plain": [
              "Lower_Age             -0.002099\n",
              "Region_Code            0.001121\n",
              "Upper_Age              0.002772\n",
              "ID                     0.005159\n",
              "Reco_Policy_Premium    0.007943\n",
              "Holding_Policy_Type    0.009297\n",
              "Reco_Policy_Cat        0.114321\n",
              "Response               1.000000\n",
              "Name: Response, dtype: float64"
            ]
          },
          "metadata": {
            "tags": []
          },
          "execution_count": 10
        }
      ]
    },
    {
      "cell_type": "code",
      "metadata": {
        "colab": {
          "base_uri": "https://localhost:8080/",
          "height": 471
        },
        "id": "PrrtZhm7UTdm",
        "outputId": "7793585c-196e-49ed-8421-1c741ae6f2a6"
      },
      "source": [
        "plt.figure(figsize=(10,6))\r\n",
        "df.corr()['Response'].sort_values().plot(kind='bar');"
      ],
      "execution_count": null,
      "outputs": [
        {
          "output_type": "display_data",
          "data": {
            "image/png": "[encoded data removed]",
            "text/plain": [
              "<Figure size 720x432 with 1 Axes>"
            ]
          },
          "metadata": {
            "tags": [],
            "needs_background": "light"
          }
        }
      ]
    },
    {
      "cell_type": "code",
      "metadata": {
        "colab": {
          "base_uri": "https://localhost:8080/",
          "height": 475
        },
        "id": "MG-D68CpUTgO",
        "outputId": "ea9516b2-2324-480d-dab8-c7195871d342"
      },
      "source": [
        "plt.figure(figsize=(12,6))\r\n",
        "sns.heatmap(df.corr(), annot=True, cmap=\"YlGnBu\")\r\n",
        "plt.show();"
      ],
      "execution_count": null,
      "outputs": [
        {
          "output_type": "display_data",
          "data": {
            "image/png": "[encoded data removed]",
            "text/plain": [
              "<Figure size 864x432 with 2 Axes>"
            ]
          },
          "metadata": {
            "tags": [],
            "needs_background": "light"
          }
        }
      ]
    },
    {
      "cell_type": "markdown",
      "metadata": {
        "id": "uGClP2sIr5Zi"
      },
      "source": [
        "Define a preprocess function"
      ]
    },
    {
      "cell_type": "code",
      "metadata": {
        "id": "_5NGawcWo_BV"
      },
      "source": [
        "def preprocess_data(df1):\r\n",
        "    # Fill numeric rows with median\r\n",
        "    for label, content in df1.items():\r\n",
        "        if pd.api.types.is_numeric_dtype(content):\r\n",
        "        #x = pd.isnull(content).sum()\r\n",
        "        #print(x)\r\n",
        "            if pd.isnull(content).sum():\r\n",
        "            # add binary column which tells us if the data was missing or not\r\n",
        "                df1[label+\"_is_missing\"] = pd.isnull(content)\r\n",
        "                # Fill missing numeric values with meadian\r\n",
        "                df1[label] = content.fillna(content.median())\r\n",
        "            \r\n",
        "        # Fill catogortical missing data and turn into numbers\r\n",
        "        if not pd.api.types.is_numeric_dtype(content):\r\n",
        "            df1[label+\"_is_missing\"] = pd.isnull(content)\r\n",
        "            # we add +1 to category code\r\n",
        "            df1[label] = pd.Categorical(content).codes+1\r\n",
        "    \r\n",
        "    return df1"
      ],
      "execution_count": 544,
      "outputs": []
    },
    {
      "cell_type": "code",
      "metadata": {
        "id": "Q0sIB7aRpVGj"
      },
      "source": [
        "# Process train data\r\n",
        "df = preprocess_data(df)"
      ],
      "execution_count": 545,
      "outputs": []
    },
    {
      "cell_type": "code",
      "metadata": {
        "colab": {
          "base_uri": "https://localhost:8080/",
          "height": 441
        },
        "id": "xBDolc2fpbev",
        "outputId": "d20c73a9-2a4a-426f-edfb-3195d7569021"
      },
      "source": [
        "df"
      ],
      "execution_count": 546,
      "outputs": [
        {
          "output_type": "execute_result",
          "data": {
            "text/html": [
              "<div>\n",
              "<style scoped>\n",
              "    .dataframe tbody tr th:only-of-type {\n",
              "        vertical-align: middle;\n",
              "    }\n",
              "\n",
              "    .dataframe tbody tr th {\n",
              "        vertical-align: top;\n",
              "    }\n",
              "\n",
              "    .dataframe thead th {\n",
              "        text-align: right;\n",
              "    }\n",
              "</style>\n",
              "<table border=\"1\" class=\"dataframe\">\n",
              "  <thead>\n",
              "    <tr style=\"text-align: right;\">\n",
              "      <th></th>\n",
              "      <th>ID</th>\n",
              "      <th>City_Code</th>\n",
              "      <th>Region_Code</th>\n",
              "      <th>Accomodation_Type</th>\n",
              "      <th>Reco_Insurance_Type</th>\n",
              "      <th>Upper_Age</th>\n",
              "      <th>Lower_Age</th>\n",
              "      <th>Is_Spouse</th>\n",
              "      <th>Health Indicator</th>\n",
              "      <th>Holding_Policy_Duration</th>\n",
              "      <th>Holding_Policy_Type</th>\n",
              "      <th>Reco_Policy_Cat</th>\n",
              "      <th>Reco_Policy_Premium</th>\n",
              "      <th>Response</th>\n",
              "      <th>City_Code_is_missing</th>\n",
              "      <th>Accomodation_Type_is_missing</th>\n",
              "      <th>Reco_Insurance_Type_is_missing</th>\n",
              "      <th>Is_Spouse_is_missing</th>\n",
              "      <th>Health Indicator_is_missing</th>\n",
              "      <th>Holding_Policy_Duration_is_missing</th>\n",
              "      <th>Holding_Policy_Type_is_missing</th>\n",
              "    </tr>\n",
              "  </thead>\n",
              "  <tbody>\n",
              "    <tr>\n",
              "      <th>0</th>\n",
              "      <td>1</td>\n",
              "      <td>23</td>\n",
              "      <td>3213</td>\n",
              "      <td>2</td>\n",
              "      <td>1</td>\n",
              "      <td>36</td>\n",
              "      <td>36</td>\n",
              "      <td>1</td>\n",
              "      <td>1</td>\n",
              "      <td>6</td>\n",
              "      <td>3.0</td>\n",
              "      <td>22</td>\n",
              "      <td>11628.0</td>\n",
              "      <td>0</td>\n",
              "      <td>False</td>\n",
              "      <td>False</td>\n",
              "      <td>False</td>\n",
              "      <td>False</td>\n",
              "      <td>False</td>\n",
              "      <td>False</td>\n",
              "      <td>False</td>\n",
              "    </tr>\n",
              "    <tr>\n",
              "      <th>1</th>\n",
              "      <td>2</td>\n",
              "      <td>32</td>\n",
              "      <td>1117</td>\n",
              "      <td>1</td>\n",
              "      <td>2</td>\n",
              "      <td>75</td>\n",
              "      <td>22</td>\n",
              "      <td>1</td>\n",
              "      <td>2</td>\n",
              "      <td>0</td>\n",
              "      <td>3.0</td>\n",
              "      <td>22</td>\n",
              "      <td>30510.0</td>\n",
              "      <td>0</td>\n",
              "      <td>False</td>\n",
              "      <td>False</td>\n",
              "      <td>False</td>\n",
              "      <td>False</td>\n",
              "      <td>False</td>\n",
              "      <td>True</td>\n",
              "      <td>True</td>\n",
              "    </tr>\n",
              "    <tr>\n",
              "      <th>2</th>\n",
              "      <td>3</td>\n",
              "      <td>32</td>\n",
              "      <td>3732</td>\n",
              "      <td>1</td>\n",
              "      <td>1</td>\n",
              "      <td>32</td>\n",
              "      <td>32</td>\n",
              "      <td>1</td>\n",
              "      <td>0</td>\n",
              "      <td>1</td>\n",
              "      <td>1.0</td>\n",
              "      <td>19</td>\n",
              "      <td>7450.0</td>\n",
              "      <td>1</td>\n",
              "      <td>False</td>\n",
              "      <td>False</td>\n",
              "      <td>False</td>\n",
              "      <td>False</td>\n",
              "      <td>True</td>\n",
              "      <td>False</td>\n",
              "      <td>False</td>\n",
              "    </tr>\n",
              "    <tr>\n",
              "      <th>3</th>\n",
              "      <td>4</td>\n",
              "      <td>17</td>\n",
              "      <td>4378</td>\n",
              "      <td>1</td>\n",
              "      <td>2</td>\n",
              "      <td>52</td>\n",
              "      <td>48</td>\n",
              "      <td>1</td>\n",
              "      <td>1</td>\n",
              "      <td>6</td>\n",
              "      <td>3.0</td>\n",
              "      <td>19</td>\n",
              "      <td>17780.0</td>\n",
              "      <td>0</td>\n",
              "      <td>False</td>\n",
              "      <td>False</td>\n",
              "      <td>False</td>\n",
              "      <td>False</td>\n",
              "      <td>False</td>\n",
              "      <td>False</td>\n",
              "      <td>False</td>\n",
              "    </tr>\n",
              "    <tr>\n",
              "      <th>4</th>\n",
              "      <td>5</td>\n",
              "      <td>35</td>\n",
              "      <td>2190</td>\n",
              "      <td>2</td>\n",
              "      <td>1</td>\n",
              "      <td>44</td>\n",
              "      <td>44</td>\n",
              "      <td>1</td>\n",
              "      <td>2</td>\n",
              "      <td>9</td>\n",
              "      <td>1.0</td>\n",
              "      <td>16</td>\n",
              "      <td>10404.0</td>\n",
              "      <td>0</td>\n",
              "      <td>False</td>\n",
              "      <td>False</td>\n",
              "      <td>False</td>\n",
              "      <td>False</td>\n",
              "      <td>False</td>\n",
              "      <td>False</td>\n",
              "      <td>False</td>\n",
              "    </tr>\n",
              "    <tr>\n",
              "      <th>...</th>\n",
              "      <td>...</td>\n",
              "      <td>...</td>\n",
              "      <td>...</td>\n",
              "      <td>...</td>\n",
              "      <td>...</td>\n",
              "      <td>...</td>\n",
              "      <td>...</td>\n",
              "      <td>...</td>\n",
              "      <td>...</td>\n",
              "      <td>...</td>\n",
              "      <td>...</td>\n",
              "      <td>...</td>\n",
              "      <td>...</td>\n",
              "      <td>...</td>\n",
              "      <td>...</td>\n",
              "      <td>...</td>\n",
              "      <td>...</td>\n",
              "      <td>...</td>\n",
              "      <td>...</td>\n",
              "      <td>...</td>\n",
              "      <td>...</td>\n",
              "    </tr>\n",
              "    <tr>\n",
              "      <th>50877</th>\n",
              "      <td>50878</td>\n",
              "      <td>31</td>\n",
              "      <td>845</td>\n",
              "      <td>2</td>\n",
              "      <td>1</td>\n",
              "      <td>22</td>\n",
              "      <td>22</td>\n",
              "      <td>1</td>\n",
              "      <td>3</td>\n",
              "      <td>0</td>\n",
              "      <td>3.0</td>\n",
              "      <td>18</td>\n",
              "      <td>7704.0</td>\n",
              "      <td>0</td>\n",
              "      <td>False</td>\n",
              "      <td>False</td>\n",
              "      <td>False</td>\n",
              "      <td>False</td>\n",
              "      <td>False</td>\n",
              "      <td>True</td>\n",
              "      <td>True</td>\n",
              "    </tr>\n",
              "    <tr>\n",
              "      <th>50878</th>\n",
              "      <td>50879</td>\n",
              "      <td>32</td>\n",
              "      <td>4188</td>\n",
              "      <td>2</td>\n",
              "      <td>1</td>\n",
              "      <td>27</td>\n",
              "      <td>27</td>\n",
              "      <td>1</td>\n",
              "      <td>3</td>\n",
              "      <td>13</td>\n",
              "      <td>3.0</td>\n",
              "      <td>4</td>\n",
              "      <td>5408.0</td>\n",
              "      <td>0</td>\n",
              "      <td>False</td>\n",
              "      <td>False</td>\n",
              "      <td>False</td>\n",
              "      <td>False</td>\n",
              "      <td>False</td>\n",
              "      <td>False</td>\n",
              "      <td>False</td>\n",
              "    </tr>\n",
              "    <tr>\n",
              "      <th>50879</th>\n",
              "      <td>50880</td>\n",
              "      <td>1</td>\n",
              "      <td>442</td>\n",
              "      <td>2</td>\n",
              "      <td>1</td>\n",
              "      <td>63</td>\n",
              "      <td>63</td>\n",
              "      <td>1</td>\n",
              "      <td>2</td>\n",
              "      <td>6</td>\n",
              "      <td>1.0</td>\n",
              "      <td>12</td>\n",
              "      <td>11374.0</td>\n",
              "      <td>0</td>\n",
              "      <td>False</td>\n",
              "      <td>False</td>\n",
              "      <td>False</td>\n",
              "      <td>False</td>\n",
              "      <td>False</td>\n",
              "      <td>False</td>\n",
              "      <td>False</td>\n",
              "    </tr>\n",
              "    <tr>\n",
              "      <th>50880</th>\n",
              "      <td>50881</td>\n",
              "      <td>1</td>\n",
              "      <td>4</td>\n",
              "      <td>1</td>\n",
              "      <td>2</td>\n",
              "      <td>71</td>\n",
              "      <td>49</td>\n",
              "      <td>1</td>\n",
              "      <td>2</td>\n",
              "      <td>8</td>\n",
              "      <td>2.0</td>\n",
              "      <td>16</td>\n",
              "      <td>28179.2</td>\n",
              "      <td>1</td>\n",
              "      <td>False</td>\n",
              "      <td>False</td>\n",
              "      <td>False</td>\n",
              "      <td>False</td>\n",
              "      <td>False</td>\n",
              "      <td>False</td>\n",
              "      <td>False</td>\n",
              "    </tr>\n",
              "    <tr>\n",
              "      <th>50881</th>\n",
              "      <td>50882</td>\n",
              "      <td>23</td>\n",
              "      <td>3866</td>\n",
              "      <td>2</td>\n",
              "      <td>1</td>\n",
              "      <td>24</td>\n",
              "      <td>24</td>\n",
              "      <td>1</td>\n",
              "      <td>3</td>\n",
              "      <td>8</td>\n",
              "      <td>3.0</td>\n",
              "      <td>18</td>\n",
              "      <td>11424.0</td>\n",
              "      <td>0</td>\n",
              "      <td>False</td>\n",
              "      <td>False</td>\n",
              "      <td>False</td>\n",
              "      <td>False</td>\n",
              "      <td>False</td>\n",
              "      <td>False</td>\n",
              "      <td>False</td>\n",
              "    </tr>\n",
              "  </tbody>\n",
              "</table>\n",
              "<p>50882 rows × 21 columns</p>\n",
              "</div>"
            ],
            "text/plain": [
              "          ID  ...  Holding_Policy_Type_is_missing\n",
              "0          1  ...                           False\n",
              "1          2  ...                            True\n",
              "2          3  ...                           False\n",
              "3          4  ...                           False\n",
              "4          5  ...                           False\n",
              "...      ...  ...                             ...\n",
              "50877  50878  ...                            True\n",
              "50878  50879  ...                           False\n",
              "50879  50880  ...                           False\n",
              "50880  50881  ...                           False\n",
              "50881  50882  ...                           False\n",
              "\n",
              "[50882 rows x 21 columns]"
            ]
          },
          "metadata": {
            "tags": []
          },
          "execution_count": 546
        }
      ]
    },
    {
      "cell_type": "code",
      "metadata": {
        "colab": {
          "base_uri": "https://localhost:8080/"
        },
        "id": "kzX2FArfqEZu",
        "outputId": "affb081a-912f-40e8-d165-3167566334e1"
      },
      "source": [
        "df.isna().sum()"
      ],
      "execution_count": 547,
      "outputs": [
        {
          "output_type": "execute_result",
          "data": {
            "text/plain": [
              "ID                                    0\n",
              "City_Code                             0\n",
              "Region_Code                           0\n",
              "Accomodation_Type                     0\n",
              "Reco_Insurance_Type                   0\n",
              "Upper_Age                             0\n",
              "Lower_Age                             0\n",
              "Is_Spouse                             0\n",
              "Health Indicator                      0\n",
              "Holding_Policy_Duration               0\n",
              "Holding_Policy_Type                   0\n",
              "Reco_Policy_Cat                       0\n",
              "Reco_Policy_Premium                   0\n",
              "Response                              0\n",
              "City_Code_is_missing                  0\n",
              "Accomodation_Type_is_missing          0\n",
              "Reco_Insurance_Type_is_missing        0\n",
              "Is_Spouse_is_missing                  0\n",
              "Health Indicator_is_missing           0\n",
              "Holding_Policy_Duration_is_missing    0\n",
              "Holding_Policy_Type_is_missing        0\n",
              "dtype: int64"
            ]
          },
          "metadata": {
            "tags": []
          },
          "execution_count": 547
        }
      ]
    },
    {
      "cell_type": "code",
      "metadata": {
        "colab": {
          "base_uri": "https://localhost:8080/"
        },
        "id": "iEQOO31MqEel",
        "outputId": "e78bafb7-dae2-41fe-80dc-c3c486ad862c"
      },
      "source": [
        "df.info()"
      ],
      "execution_count": 548,
      "outputs": [
        {
          "output_type": "stream",
          "text": [
            "<class 'pandas.core.frame.DataFrame'>\n",
            "RangeIndex: 50882 entries, 0 to 50881\n",
            "Data columns (total 21 columns):\n",
            " #   Column                              Non-Null Count  Dtype  \n",
            "---  ------                              --------------  -----  \n",
            " 0   ID                                  50882 non-null  int64  \n",
            " 1   City_Code                           50882 non-null  int8   \n",
            " 2   Region_Code                         50882 non-null  int64  \n",
            " 3   Accomodation_Type                   50882 non-null  int8   \n",
            " 4   Reco_Insurance_Type                 50882 non-null  int8   \n",
            " 5   Upper_Age                           50882 non-null  int64  \n",
            " 6   Lower_Age                           50882 non-null  int64  \n",
            " 7   Is_Spouse                           50882 non-null  int8   \n",
            " 8   Health Indicator                    50882 non-null  int8   \n",
            " 9   Holding_Policy_Duration             50882 non-null  int8   \n",
            " 10  Holding_Policy_Type                 50882 non-null  float64\n",
            " 11  Reco_Policy_Cat                     50882 non-null  int64  \n",
            " 12  Reco_Policy_Premium                 50882 non-null  float64\n",
            " 13  Response                            50882 non-null  int64  \n",
            " 14  City_Code_is_missing                50882 non-null  bool   \n",
            " 15  Accomodation_Type_is_missing        50882 non-null  bool   \n",
            " 16  Reco_Insurance_Type_is_missing      50882 non-null  bool   \n",
            " 17  Is_Spouse_is_missing                50882 non-null  bool   \n",
            " 18  Health Indicator_is_missing         50882 non-null  bool   \n",
            " 19  Holding_Policy_Duration_is_missing  50882 non-null  bool   \n",
            " 20  Holding_Policy_Type_is_missing      50882 non-null  bool   \n",
            "dtypes: bool(7), float64(2), int64(6), int8(6)\n",
            "memory usage: 3.7 MB\n"
          ],
          "name": "stdout"
        }
      ]
    },
    {
      "cell_type": "code",
      "metadata": {
        "id": "_Z5ZQcVkqZZH"
      },
      "source": [
        "# Process test data\r\n",
        "testdf = preprocess_data(testdf)"
      ],
      "execution_count": 549,
      "outputs": []
    },
    {
      "cell_type": "code",
      "metadata": {
        "colab": {
          "base_uri": "https://localhost:8080/"
        },
        "id": "30D80Wu7qZcf",
        "outputId": "99cda8cc-c9d5-4bda-a65a-5bfd593d6c90"
      },
      "source": [
        "testdf.isna().sum()"
      ],
      "execution_count": 550,
      "outputs": [
        {
          "output_type": "execute_result",
          "data": {
            "text/plain": [
              "ID                                    0\n",
              "City_Code                             0\n",
              "Region_Code                           0\n",
              "Accomodation_Type                     0\n",
              "Reco_Insurance_Type                   0\n",
              "Upper_Age                             0\n",
              "Lower_Age                             0\n",
              "Is_Spouse                             0\n",
              "Health Indicator                      0\n",
              "Holding_Policy_Duration               0\n",
              "Holding_Policy_Type                   0\n",
              "Reco_Policy_Cat                       0\n",
              "Reco_Policy_Premium                   0\n",
              "City_Code_is_missing                  0\n",
              "Accomodation_Type_is_missing          0\n",
              "Reco_Insurance_Type_is_missing        0\n",
              "Is_Spouse_is_missing                  0\n",
              "Health Indicator_is_missing           0\n",
              "Holding_Policy_Duration_is_missing    0\n",
              "Holding_Policy_Type_is_missing        0\n",
              "dtype: int64"
            ]
          },
          "metadata": {
            "tags": []
          },
          "execution_count": 550
        }
      ]
    },
    {
      "cell_type": "code",
      "metadata": {
        "colab": {
          "base_uri": "https://localhost:8080/"
        },
        "id": "aZH8ke5gE9H3",
        "outputId": "af81907e-68b0-404c-a75d-de04ea053f28"
      },
      "source": [
        "df.shape, testdf.shape"
      ],
      "execution_count": 551,
      "outputs": [
        {
          "output_type": "execute_result",
          "data": {
            "text/plain": [
              "((50882, 21), (21805, 20))"
            ]
          },
          "metadata": {
            "tags": []
          },
          "execution_count": 551
        }
      ]
    },
    {
      "cell_type": "code",
      "metadata": {
        "colab": {
          "base_uri": "https://localhost:8080/"
        },
        "id": "WE0fJRNZsmnR",
        "outputId": "00af0ebd-b5f3-4809-d5ee-b1285a788661"
      },
      "source": [
        "# Find the column differences b/w training and test data sets\r\n",
        "print(\"Find the column differences b/w training and test data sets:\")\r\n",
        "print(set(df.columns) - set(testdf.columns))\r\n"
      ],
      "execution_count": 500,
      "outputs": [
        {
          "output_type": "stream",
          "text": [
            "Find the column differences b/w training and test data sets:\n",
            "{'Response'}\n"
          ],
          "name": "stdout"
        }
      ]
    },
    {
      "cell_type": "markdown",
      "metadata": {
        "id": "I4l11PUQtCFJ"
      },
      "source": [
        "Response - column is not in testdf. This is usual as we need to predict this."
      ]
    },
    {
      "cell_type": "code",
      "metadata": {
        "colab": {
          "base_uri": "https://localhost:8080/"
        },
        "id": "Heu4O-fwsmp1",
        "outputId": "9340b5fc-f48c-450d-b7a7-6e3935e5efde"
      },
      "source": [
        "# Find the column differences b/w test and train data sets\r\n",
        "print(\"Find the column differences b/w test and train data sets:\")\r\n",
        "print(set(testdf.columns) - set(df.columns))\r\n"
      ],
      "execution_count": 501,
      "outputs": [
        {
          "output_type": "stream",
          "text": [
            "Find the column differences b/w test and train data sets:\n",
            "set()\n"
          ],
          "name": "stdout"
        }
      ]
    },
    {
      "cell_type": "markdown",
      "metadata": {
        "id": "-vR75UC6tkau"
      },
      "source": [
        "Drop few column which are not needed"
      ]
    },
    {
      "cell_type": "code",
      "metadata": {
        "id": "bA7tKLD0sm07"
      },
      "source": [
        "df = df.drop([\"ID\"], axis=1) # train set\r\n",
        "testdf = testdf.drop([\"ID\"], axis=1) # test set"
      ],
      "execution_count": 552,
      "outputs": []
    },
    {
      "cell_type": "code",
      "metadata": {
        "id": "bHjRZ0vRsm3o"
      },
      "source": [
        ""
      ],
      "execution_count": 552,
      "outputs": []
    },
    {
      "cell_type": "markdown",
      "metadata": {
        "id": "iJmdR6idz6mN"
      },
      "source": [
        "Split train set into training and test"
      ]
    },
    {
      "cell_type": "code",
      "metadata": {
        "colab": {
          "base_uri": "https://localhost:8080/",
          "height": 233
        },
        "id": "IGKqTeCwUU5V",
        "outputId": "6ebad98a-3fa7-4cfc-eb2c-82e61e327730"
      },
      "source": [
        "y = df[\"Response\"]\r\n",
        "X = df.drop([\"Response\"], axis=1)\r\n",
        "scaler = MinMaxScaler().fit(X)\r\n",
        "X_scaled = pd.DataFrame(data = scaler.transform(X), columns = X.columns)\r\n",
        "# split the data into two categories, one for training and the other for testing\r\n",
        "X_public_sc, X_private_sc, _, _ = train_test_split(X_scaled, y, test_size=0.60, random_state=42)\r\n",
        "# We do the same split on the unscalled data, we'll use these ones later for the plots\r\n",
        "X_public, X_private, y_public, y_private = train_test_split(X, y, test_size=0.60, random_state=42)\r\n",
        "# Display the first samples of the dataset\r\n",
        "X_scaled.head()"
      ],
      "execution_count": 553,
      "outputs": [
        {
          "output_type": "execute_result",
          "data": {
            "text/html": [
              "<div>\n",
              "<style scoped>\n",
              "    .dataframe tbody tr th:only-of-type {\n",
              "        vertical-align: middle;\n",
              "    }\n",
              "\n",
              "    .dataframe tbody tr th {\n",
              "        vertical-align: top;\n",
              "    }\n",
              "\n",
              "    .dataframe thead th {\n",
              "        text-align: right;\n",
              "    }\n",
              "</style>\n",
              "<table border=\"1\" class=\"dataframe\">\n",
              "  <thead>\n",
              "    <tr style=\"text-align: right;\">\n",
              "      <th></th>\n",
              "      <th>City_Code</th>\n",
              "      <th>Region_Code</th>\n",
              "      <th>Accomodation_Type</th>\n",
              "      <th>Reco_Insurance_Type</th>\n",
              "      <th>Upper_Age</th>\n",
              "      <th>Lower_Age</th>\n",
              "      <th>Is_Spouse</th>\n",
              "      <th>Health Indicator</th>\n",
              "      <th>Holding_Policy_Duration</th>\n",
              "      <th>Holding_Policy_Type</th>\n",
              "      <th>Reco_Policy_Cat</th>\n",
              "      <th>Reco_Policy_Premium</th>\n",
              "      <th>City_Code_is_missing</th>\n",
              "      <th>Accomodation_Type_is_missing</th>\n",
              "      <th>Reco_Insurance_Type_is_missing</th>\n",
              "      <th>Is_Spouse_is_missing</th>\n",
              "      <th>Health Indicator_is_missing</th>\n",
              "      <th>Holding_Policy_Duration_is_missing</th>\n",
              "      <th>Holding_Policy_Type_is_missing</th>\n",
              "    </tr>\n",
              "  </thead>\n",
              "  <tbody>\n",
              "    <tr>\n",
              "      <th>0</th>\n",
              "      <td>0.628571</td>\n",
              "      <td>0.518650</td>\n",
              "      <td>1.0</td>\n",
              "      <td>0.0</td>\n",
              "      <td>0.315789</td>\n",
              "      <td>0.338983</td>\n",
              "      <td>0.0</td>\n",
              "      <td>0.111111</td>\n",
              "      <td>0.400000</td>\n",
              "      <td>0.666667</td>\n",
              "      <td>1.000000</td>\n",
              "      <td>0.227609</td>\n",
              "      <td>0.0</td>\n",
              "      <td>0.0</td>\n",
              "      <td>0.0</td>\n",
              "      <td>0.0</td>\n",
              "      <td>0.0</td>\n",
              "      <td>0.0</td>\n",
              "      <td>0.0</td>\n",
              "    </tr>\n",
              "    <tr>\n",
              "      <th>1</th>\n",
              "      <td>0.885714</td>\n",
              "      <td>0.180203</td>\n",
              "      <td>0.0</td>\n",
              "      <td>1.0</td>\n",
              "      <td>1.000000</td>\n",
              "      <td>0.101695</td>\n",
              "      <td>0.0</td>\n",
              "      <td>0.222222</td>\n",
              "      <td>0.000000</td>\n",
              "      <td>0.666667</td>\n",
              "      <td>1.000000</td>\n",
              "      <td>0.687356</td>\n",
              "      <td>0.0</td>\n",
              "      <td>0.0</td>\n",
              "      <td>0.0</td>\n",
              "      <td>0.0</td>\n",
              "      <td>0.0</td>\n",
              "      <td>1.0</td>\n",
              "      <td>1.0</td>\n",
              "    </tr>\n",
              "    <tr>\n",
              "      <th>2</th>\n",
              "      <td>0.885714</td>\n",
              "      <td>0.602454</td>\n",
              "      <td>0.0</td>\n",
              "      <td>0.0</td>\n",
              "      <td>0.245614</td>\n",
              "      <td>0.271186</td>\n",
              "      <td>0.0</td>\n",
              "      <td>0.000000</td>\n",
              "      <td>0.066667</td>\n",
              "      <td>0.000000</td>\n",
              "      <td>0.857143</td>\n",
              "      <td>0.125881</td>\n",
              "      <td>0.0</td>\n",
              "      <td>0.0</td>\n",
              "      <td>0.0</td>\n",
              "      <td>0.0</td>\n",
              "      <td>1.0</td>\n",
              "      <td>0.0</td>\n",
              "      <td>0.0</td>\n",
              "    </tr>\n",
              "    <tr>\n",
              "      <th>3</th>\n",
              "      <td>0.457143</td>\n",
              "      <td>0.706766</td>\n",
              "      <td>0.0</td>\n",
              "      <td>1.0</td>\n",
              "      <td>0.596491</td>\n",
              "      <td>0.542373</td>\n",
              "      <td>0.0</td>\n",
              "      <td>0.111111</td>\n",
              "      <td>0.400000</td>\n",
              "      <td>0.666667</td>\n",
              "      <td>0.857143</td>\n",
              "      <td>0.377401</td>\n",
              "      <td>0.0</td>\n",
              "      <td>0.0</td>\n",
              "      <td>0.0</td>\n",
              "      <td>0.0</td>\n",
              "      <td>0.0</td>\n",
              "      <td>0.0</td>\n",
              "      <td>0.0</td>\n",
              "    </tr>\n",
              "    <tr>\n",
              "      <th>4</th>\n",
              "      <td>0.971429</td>\n",
              "      <td>0.353464</td>\n",
              "      <td>1.0</td>\n",
              "      <td>0.0</td>\n",
              "      <td>0.456140</td>\n",
              "      <td>0.474576</td>\n",
              "      <td>0.0</td>\n",
              "      <td>0.222222</td>\n",
              "      <td>0.600000</td>\n",
              "      <td>0.000000</td>\n",
              "      <td>0.714286</td>\n",
              "      <td>0.197807</td>\n",
              "      <td>0.0</td>\n",
              "      <td>0.0</td>\n",
              "      <td>0.0</td>\n",
              "      <td>0.0</td>\n",
              "      <td>0.0</td>\n",
              "      <td>0.0</td>\n",
              "      <td>0.0</td>\n",
              "    </tr>\n",
              "  </tbody>\n",
              "</table>\n",
              "</div>"
            ],
            "text/plain": [
              "   City_Code  ...  Holding_Policy_Type_is_missing\n",
              "0   0.628571  ...                             0.0\n",
              "1   0.885714  ...                             1.0\n",
              "2   0.885714  ...                             0.0\n",
              "3   0.457143  ...                             0.0\n",
              "4   0.971429  ...                             0.0\n",
              "\n",
              "[5 rows x 19 columns]"
            ]
          },
          "metadata": {
            "tags": []
          },
          "execution_count": 553
        }
      ]
    },
    {
      "cell_type": "code",
      "metadata": {
        "id": "Wqd6ALkrR0Xm"
      },
      "source": [
        ""
      ],
      "execution_count": 553,
      "outputs": []
    },
    {
      "cell_type": "code",
      "metadata": {
        "id": "IHb6F4_uSQS6"
      },
      "source": [
        ""
      ],
      "execution_count": 553,
      "outputs": []
    },
    {
      "cell_type": "markdown",
      "metadata": {
        "id": "FgfXz6mf0aOh"
      },
      "source": [
        "Model building"
      ]
    },
    {
      "cell_type": "markdown",
      "metadata": {
        "id": "3xkK2OLAyH4i"
      },
      "source": [
        "Model LGBM"
      ]
    },
    {
      "cell_type": "code",
      "metadata": {
        "colab": {
          "base_uri": "https://localhost:8080/"
        },
        "id": "W-ypk0OVxFUD",
        "outputId": "b2b4953d-6a7b-4ec1-b733-6d775a6875e1"
      },
      "source": [
        "import lightgbm as lgb\r\n",
        "np.random.seed(42)\r\n",
        "\r\n",
        "lg = lgb.LGBMClassifier(min_samples_split = 1200,\r\n",
        "                        min_samples_leaf = 20,\r\n",
        "                        max_depth = 12,subsample_for_bin=20000)\r\n",
        "#                        colsample_bytree=1.0, reg_alpha=0.5, reg_lambda=0.5) \r\n",
        "lg.fit(X_public_sc,y_public)\r\n",
        "y_pred = lg.predict(X_private_sc)\r\n",
        "y_pred_proba = lg.predict_proba(X_private_sc)\r\n",
        "print(\"model score - \", lg.score(X_private_sc, y_private))\r\n",
        "print(\"model accuracy - \", accuracy_score(y_private, y_pred))"
      ],
      "execution_count": 554,
      "outputs": [
        {
          "output_type": "stream",
          "text": [
            "model score -  0.7595152309204062\n",
            "model accuracy -  0.7595152309204062\n"
          ],
          "name": "stdout"
        }
      ]
    },
    {
      "cell_type": "code",
      "metadata": {
        "id": "TzWwQxXJJzzi"
      },
      "source": [
        ""
      ],
      "execution_count": 518,
      "outputs": []
    },
    {
      "cell_type": "code",
      "metadata": {
        "colab": {
          "base_uri": "https://localhost:8080/"
        },
        "id": "-2x91J-fFLvA",
        "outputId": "c1f43084-50ac-4de9-b4d5-5748658fc848"
      },
      "source": [
        "y_pred"
      ],
      "execution_count": 555,
      "outputs": [
        {
          "output_type": "execute_result",
          "data": {
            "text/plain": [
              "array([0, 0, 0, ..., 0, 0, 0])"
            ]
          },
          "metadata": {
            "tags": []
          },
          "execution_count": 555
        }
      ]
    },
    {
      "cell_type": "code",
      "metadata": {
        "colab": {
          "base_uri": "https://localhost:8080/"
        },
        "id": "9g9Qj_BkFLxq",
        "outputId": "5af43a69-58d9-40a1-9368-e6293f9acbfd"
      },
      "source": [
        "# Confution matrix\r\n",
        "print(confusion_matrix(y_private, y_pred))"
      ],
      "execution_count": 556,
      "outputs": [
        {
          "output_type": "stream",
          "text": [
            "[[23055   138]\n",
            " [ 7204   133]]\n"
          ],
          "name": "stdout"
        }
      ]
    },
    {
      "cell_type": "code",
      "metadata": {
        "colab": {
          "base_uri": "https://localhost:8080/",
          "height": 137
        },
        "id": "InLqrcjXFL0O",
        "outputId": "4ab59942-5033-4ada-a78e-1f5ebefb98b8"
      },
      "source": [
        "cf = pd.crosstab(y_private,\r\n",
        "                 y_pred,\r\n",
        "                 rownames=[\"Actual labels\"],\r\n",
        "                 colnames=[\"Predicted labels\"])\r\n",
        "cf"
      ],
      "execution_count": 557,
      "outputs": [
        {
          "output_type": "execute_result",
          "data": {
            "text/html": [
              "<div>\n",
              "<style scoped>\n",
              "    .dataframe tbody tr th:only-of-type {\n",
              "        vertical-align: middle;\n",
              "    }\n",
              "\n",
              "    .dataframe tbody tr th {\n",
              "        vertical-align: top;\n",
              "    }\n",
              "\n",
              "    .dataframe thead th {\n",
              "        text-align: right;\n",
              "    }\n",
              "</style>\n",
              "<table border=\"1\" class=\"dataframe\">\n",
              "  <thead>\n",
              "    <tr style=\"text-align: right;\">\n",
              "      <th>Predicted labels</th>\n",
              "      <th>0</th>\n",
              "      <th>1</th>\n",
              "    </tr>\n",
              "    <tr>\n",
              "      <th>Actual labels</th>\n",
              "      <th></th>\n",
              "      <th></th>\n",
              "    </tr>\n",
              "  </thead>\n",
              "  <tbody>\n",
              "    <tr>\n",
              "      <th>0</th>\n",
              "      <td>23055</td>\n",
              "      <td>138</td>\n",
              "    </tr>\n",
              "    <tr>\n",
              "      <th>1</th>\n",
              "      <td>7204</td>\n",
              "      <td>133</td>\n",
              "    </tr>\n",
              "  </tbody>\n",
              "</table>\n",
              "</div>"
            ],
            "text/plain": [
              "Predicted labels      0    1\n",
              "Actual labels               \n",
              "0                 23055  138\n",
              "1                  7204  133"
            ]
          },
          "metadata": {
            "tags": []
          },
          "execution_count": 557
        }
      ]
    },
    {
      "cell_type": "code",
      "metadata": {
        "id": "0aJU2lvlFL3n",
        "colab": {
          "base_uri": "https://localhost:8080/",
          "height": 279
        },
        "outputId": "8e94a744-42f8-4f70-ff59-c66b04cc7225"
      },
      "source": [
        "sns.heatmap(cf, annot=True, cmap='Blues', fmt='g');"
      ],
      "execution_count": 558,
      "outputs": [
        {
          "output_type": "display_data",
          "data": {
            "image/png": "[encoded data removed]",
            "text/plain": [
              "<Figure size 432x288 with 2 Axes>"
            ]
          },
          "metadata": {
            "tags": [],
            "needs_background": "light"
          }
        }
      ]
    },
    {
      "cell_type": "code",
      "metadata": {
        "colab": {
          "base_uri": "https://localhost:8080/"
        },
        "id": "EwQLCKFwFL6L",
        "outputId": "f80c45e4-a048-4347-958e-d31b64242651"
      },
      "source": [
        "print(classification_report(y_private, y_pred))"
      ],
      "execution_count": 559,
      "outputs": [
        {
          "output_type": "stream",
          "text": [
            "              precision    recall  f1-score   support\n",
            "\n",
            "           0       0.76      0.99      0.86     23193\n",
            "           1       0.49      0.02      0.03      7337\n",
            "\n",
            "    accuracy                           0.76     30530\n",
            "   macro avg       0.63      0.51      0.45     30530\n",
            "weighted avg       0.70      0.76      0.66     30530\n",
            "\n"
          ],
          "name": "stdout"
        }
      ]
    },
    {
      "cell_type": "code",
      "metadata": {
        "colab": {
          "base_uri": "https://localhost:8080/"
        },
        "id": "dx0CAcQZFL82",
        "outputId": "4d017d9b-442f-451f-9e77-e1c2186f930b"
      },
      "source": [
        "# predict_proba() returns probabilities of a classification label\r\n",
        "#y_pred_proba = lg.predict_proba(X_test_sc)\r\n",
        "y_pred_proba[:3]"
      ],
      "execution_count": 560,
      "outputs": [
        {
          "output_type": "execute_result",
          "data": {
            "text/plain": [
              "array([[0.64724364, 0.35275636],\n",
              "       [0.7238814 , 0.2761186 ],\n",
              "       [0.76472193, 0.23527807]])"
            ]
          },
          "metadata": {
            "tags": []
          },
          "execution_count": 560
        }
      ]
    },
    {
      "cell_type": "code",
      "metadata": {
        "colab": {
          "base_uri": "https://localhost:8080/"
        },
        "id": "E8P_maZS8qym",
        "outputId": "c1eafcac-b8dd-4b20-b757-bfba90bc51b0"
      },
      "source": [
        "# get the data related to '1'\r\n",
        "y_prob_positive = y_pred_proba[:, 1]\r\n",
        "y_prob_positive[:5]"
      ],
      "execution_count": 561,
      "outputs": [
        {
          "output_type": "execute_result",
          "data": {
            "text/plain": [
              "array([0.35275636, 0.2761186 , 0.23527807, 0.36572544, 0.25049009])"
            ]
          },
          "metadata": {
            "tags": []
          },
          "execution_count": 561
        }
      ]
    },
    {
      "cell_type": "code",
      "metadata": {
        "colab": {
          "base_uri": "https://localhost:8080/"
        },
        "id": "Rlg7B3PV8q3l",
        "outputId": "239bfead-d4b4-42a4-ccc8-22a24a58425e"
      },
      "source": [
        "from sklearn.metrics import roc_curve\r\n",
        "# Calculate fpr, tpr and thresholds \r\n",
        "fpr, tpr, thesholds = roc_curve(y_private, y_prob_positive)\r\n",
        "fpr[:5]"
      ],
      "execution_count": 562,
      "outputs": [
        {
          "output_type": "execute_result",
          "data": {
            "text/plain": [
              "array([0.00000000e+00, 4.31164576e-05, 1.29349373e-04, 1.29349373e-04,\n",
              "       1.72465830e-04])"
            ]
          },
          "metadata": {
            "tags": []
          },
          "execution_count": 562
        }
      ]
    },
    {
      "cell_type": "code",
      "metadata": {
        "id": "Hq1tekkd8q8a"
      },
      "source": [
        "# Visual representation \r\n",
        "import matplotlib.pyplot as plt\r\n",
        "\r\n",
        "def plot_roc_curve(fpr, tpr):\r\n",
        "    \r\n",
        "    # plot roc curve\r\n",
        "    plt.plot(fpr, tpr, color='orange', label='ROC')\r\n",
        "    # plot line with no predictive power (baseline)\r\n",
        "    plt.plot([0,1], [0,1], color='darkblue', linestyle='--', label='Guessing')\r\n",
        "    \r\n",
        "    # customize plots\r\n",
        "    plt.xlabel(\"False predictive rate(fpr)\")\r\n",
        "    plt.ylabel(\"True predictive rate(tpr)\")\r\n",
        "    plt.title(\"Receiver operating characterstic curse (ROC \")\r\n",
        "    plt.legend()\r\n",
        "    plt.show()"
      ],
      "execution_count": 563,
      "outputs": []
    },
    {
      "cell_type": "code",
      "metadata": {
        "colab": {
          "base_uri": "https://localhost:8080/",
          "height": 404
        },
        "id": "-4dvrhId8rAd",
        "outputId": "515b29c4-adf4-47e4-fddc-e712f392b3d9"
      },
      "source": [
        "plt.figure(figsize=(8,6))\r\n",
        "plot_roc_curve(fpr, tpr)"
      ],
      "execution_count": 564,
      "outputs": [
        {
          "output_type": "display_data",
          "data": {
            "image/png": "[encoded data removed]",
            "text/plain": [
              "<Figure size 576x432 with 1 Axes>"
            ]
          },
          "metadata": {
            "tags": [],
            "needs_background": "light"
          }
        }
      ]
    },
    {
      "cell_type": "code",
      "metadata": {
        "colab": {
          "base_uri": "https://localhost:8080/"
        },
        "id": "y2WyA_8B8rEU",
        "outputId": "4c6da469-be4d-45f8-d63d-c1980587d20a"
      },
      "source": [
        "# check the accurate score\r\n",
        "from sklearn.metrics import roc_auc_score\r\n",
        "print(\"Prob positive score is : \")\r\n",
        "print(roc_auc_score(y_private, y_prob_positive))"
      ],
      "execution_count": 565,
      "outputs": [
        {
          "output_type": "stream",
          "text": [
            "Prob positive score is : \n",
            "0.642045144923217\n"
          ],
          "name": "stdout"
        }
      ]
    },
    {
      "cell_type": "code",
      "metadata": {
        "colab": {
          "base_uri": "https://localhost:8080/",
          "height": 312
        },
        "id": "ALCXM-tP8rIH",
        "outputId": "a975c7a4-82b9-40cb-9626-82e5e2d09636"
      },
      "source": [
        "  # plot perfect ROC curve and AUC score\r\n",
        "fpr, tpr, thesholds = roc_curve(y_private, y_private)\r\n",
        "plot_roc_curve(fpr, tpr)\r\n",
        "roc_auc_score(y_private, y_private)"
      ],
      "execution_count": 530,
      "outputs": [
        {
          "output_type": "display_data",
          "data": {
            "image/png": "[encoded data removed]",
            "text/plain": [
              "<Figure size 432x288 with 1 Axes>"
            ]
          },
          "metadata": {
            "tags": [],
            "needs_background": "light"
          }
        },
        {
          "output_type": "execute_result",
          "data": {
            "text/plain": [
              "1.0"
            ]
          },
          "metadata": {
            "tags": []
          },
          "execution_count": 530
        }
      ]
    },
    {
      "cell_type": "code",
      "metadata": {
        "id": "qBR_4SHc9mkr"
      },
      "source": [
        ""
      ],
      "execution_count": null,
      "outputs": []
    },
    {
      "cell_type": "code",
      "metadata": {
        "id": "ETHIOejN5YtN"
      },
      "source": [
        ""
      ],
      "execution_count": null,
      "outputs": []
    },
    {
      "cell_type": "markdown",
      "metadata": {
        "id": "cIJLOizSsvQv"
      },
      "source": [
        "#Process Tsest Set\r\n",
        "\r\n"
      ]
    },
    {
      "cell_type": "code",
      "metadata": {
        "colab": {
          "base_uri": "https://localhost:8080/",
          "height": 233
        },
        "id": "4P3IW1QBs1Pk",
        "outputId": "f9c416cc-87e2-45b5-ee22-bd131528ef12"
      },
      "source": [
        "testdf.head()"
      ],
      "execution_count": 566,
      "outputs": [
        {
          "output_type": "execute_result",
          "data": {
            "text/html": [
              "<div>\n",
              "<style scoped>\n",
              "    .dataframe tbody tr th:only-of-type {\n",
              "        vertical-align: middle;\n",
              "    }\n",
              "\n",
              "    .dataframe tbody tr th {\n",
              "        vertical-align: top;\n",
              "    }\n",
              "\n",
              "    .dataframe thead th {\n",
              "        text-align: right;\n",
              "    }\n",
              "</style>\n",
              "<table border=\"1\" class=\"dataframe\">\n",
              "  <thead>\n",
              "    <tr style=\"text-align: right;\">\n",
              "      <th></th>\n",
              "      <th>City_Code</th>\n",
              "      <th>Region_Code</th>\n",
              "      <th>Accomodation_Type</th>\n",
              "      <th>Reco_Insurance_Type</th>\n",
              "      <th>Upper_Age</th>\n",
              "      <th>Lower_Age</th>\n",
              "      <th>Is_Spouse</th>\n",
              "      <th>Health Indicator</th>\n",
              "      <th>Holding_Policy_Duration</th>\n",
              "      <th>Holding_Policy_Type</th>\n",
              "      <th>Reco_Policy_Cat</th>\n",
              "      <th>Reco_Policy_Premium</th>\n",
              "      <th>City_Code_is_missing</th>\n",
              "      <th>Accomodation_Type_is_missing</th>\n",
              "      <th>Reco_Insurance_Type_is_missing</th>\n",
              "      <th>Is_Spouse_is_missing</th>\n",
              "      <th>Health Indicator_is_missing</th>\n",
              "      <th>Holding_Policy_Duration_is_missing</th>\n",
              "      <th>Holding_Policy_Type_is_missing</th>\n",
              "    </tr>\n",
              "  </thead>\n",
              "  <tbody>\n",
              "    <tr>\n",
              "      <th>0</th>\n",
              "      <td>1</td>\n",
              "      <td>156</td>\n",
              "      <td>1</td>\n",
              "      <td>1</td>\n",
              "      <td>30</td>\n",
              "      <td>30</td>\n",
              "      <td>1</td>\n",
              "      <td>0</td>\n",
              "      <td>12</td>\n",
              "      <td>3.0</td>\n",
              "      <td>5</td>\n",
              "      <td>11934.0</td>\n",
              "      <td>False</td>\n",
              "      <td>False</td>\n",
              "      <td>False</td>\n",
              "      <td>False</td>\n",
              "      <td>True</td>\n",
              "      <td>False</td>\n",
              "      <td>False</td>\n",
              "    </tr>\n",
              "    <tr>\n",
              "      <th>1</th>\n",
              "      <td>31</td>\n",
              "      <td>7</td>\n",
              "      <td>1</td>\n",
              "      <td>2</td>\n",
              "      <td>69</td>\n",
              "      <td>68</td>\n",
              "      <td>2</td>\n",
              "      <td>1</td>\n",
              "      <td>9</td>\n",
              "      <td>3.0</td>\n",
              "      <td>18</td>\n",
              "      <td>32204.8</td>\n",
              "      <td>False</td>\n",
              "      <td>False</td>\n",
              "      <td>False</td>\n",
              "      <td>False</td>\n",
              "      <td>False</td>\n",
              "      <td>False</td>\n",
              "      <td>False</td>\n",
              "    </tr>\n",
              "    <tr>\n",
              "      <th>2</th>\n",
              "      <td>1</td>\n",
              "      <td>564</td>\n",
              "      <td>2</td>\n",
              "      <td>1</td>\n",
              "      <td>28</td>\n",
              "      <td>28</td>\n",
              "      <td>1</td>\n",
              "      <td>3</td>\n",
              "      <td>8</td>\n",
              "      <td>4.0</td>\n",
              "      <td>17</td>\n",
              "      <td>9240.0</td>\n",
              "      <td>False</td>\n",
              "      <td>False</td>\n",
              "      <td>False</td>\n",
              "      <td>False</td>\n",
              "      <td>False</td>\n",
              "      <td>False</td>\n",
              "      <td>False</td>\n",
              "    </tr>\n",
              "    <tr>\n",
              "      <th>3</th>\n",
              "      <td>23</td>\n",
              "      <td>1177</td>\n",
              "      <td>2</td>\n",
              "      <td>1</td>\n",
              "      <td>23</td>\n",
              "      <td>23</td>\n",
              "      <td>1</td>\n",
              "      <td>3</td>\n",
              "      <td>9</td>\n",
              "      <td>3.0</td>\n",
              "      <td>18</td>\n",
              "      <td>9086.0</td>\n",
              "      <td>False</td>\n",
              "      <td>False</td>\n",
              "      <td>False</td>\n",
              "      <td>False</td>\n",
              "      <td>False</td>\n",
              "      <td>False</td>\n",
              "      <td>False</td>\n",
              "    </tr>\n",
              "    <tr>\n",
              "      <th>4</th>\n",
              "      <td>1</td>\n",
              "      <td>951</td>\n",
              "      <td>1</td>\n",
              "      <td>1</td>\n",
              "      <td>75</td>\n",
              "      <td>75</td>\n",
              "      <td>1</td>\n",
              "      <td>3</td>\n",
              "      <td>0</td>\n",
              "      <td>3.0</td>\n",
              "      <td>5</td>\n",
              "      <td>22534.0</td>\n",
              "      <td>False</td>\n",
              "      <td>False</td>\n",
              "      <td>False</td>\n",
              "      <td>False</td>\n",
              "      <td>False</td>\n",
              "      <td>True</td>\n",
              "      <td>True</td>\n",
              "    </tr>\n",
              "  </tbody>\n",
              "</table>\n",
              "</div>"
            ],
            "text/plain": [
              "   City_Code  ...  Holding_Policy_Type_is_missing\n",
              "0          1  ...                           False\n",
              "1         31  ...                           False\n",
              "2          1  ...                           False\n",
              "3         23  ...                           False\n",
              "4          1  ...                            True\n",
              "\n",
              "[5 rows x 19 columns]"
            ]
          },
          "metadata": {
            "tags": []
          },
          "execution_count": 566
        }
      ]
    },
    {
      "cell_type": "code",
      "metadata": {
        "colab": {
          "base_uri": "https://localhost:8080/",
          "height": 441
        },
        "id": "AZqqIFR8Oiln",
        "outputId": "0a22ca2a-a132-4000-c080-31dcd810377d"
      },
      "source": [
        "testdf_sc = pd.DataFrame(data = scaler.transform(testdf), columns = testdf.columns)\r\n",
        "testdf_sc"
      ],
      "execution_count": 532,
      "outputs": [
        {
          "output_type": "execute_result",
          "data": {
            "text/html": [
              "<div>\n",
              "<style scoped>\n",
              "    .dataframe tbody tr th:only-of-type {\n",
              "        vertical-align: middle;\n",
              "    }\n",
              "\n",
              "    .dataframe tbody tr th {\n",
              "        vertical-align: top;\n",
              "    }\n",
              "\n",
              "    .dataframe thead th {\n",
              "        text-align: right;\n",
              "    }\n",
              "</style>\n",
              "<table border=\"1\" class=\"dataframe\">\n",
              "  <thead>\n",
              "    <tr style=\"text-align: right;\">\n",
              "      <th></th>\n",
              "      <th>Accomodation_Type</th>\n",
              "      <th>Reco_Insurance_Type</th>\n",
              "      <th>Upper_Age</th>\n",
              "      <th>Lower_Age</th>\n",
              "      <th>Is_Spouse</th>\n",
              "      <th>Health Indicator</th>\n",
              "      <th>Holding_Policy_Duration</th>\n",
              "      <th>Holding_Policy_Type</th>\n",
              "      <th>Reco_Policy_Cat</th>\n",
              "      <th>Reco_Policy_Premium</th>\n",
              "      <th>City_Code_is_missing</th>\n",
              "      <th>Accomodation_Type_is_missing</th>\n",
              "      <th>Reco_Insurance_Type_is_missing</th>\n",
              "      <th>Is_Spouse_is_missing</th>\n",
              "      <th>Health Indicator_is_missing</th>\n",
              "      <th>Holding_Policy_Duration_is_missing</th>\n",
              "      <th>Holding_Policy_Type_is_missing</th>\n",
              "    </tr>\n",
              "  </thead>\n",
              "  <tbody>\n",
              "    <tr>\n",
              "      <th>0</th>\n",
              "      <td>0.0</td>\n",
              "      <td>0.0</td>\n",
              "      <td>0.210526</td>\n",
              "      <td>0.237288</td>\n",
              "      <td>0.0</td>\n",
              "      <td>0.000000</td>\n",
              "      <td>0.800000</td>\n",
              "      <td>0.666667</td>\n",
              "      <td>0.190476</td>\n",
              "      <td>0.235060</td>\n",
              "      <td>0.0</td>\n",
              "      <td>0.0</td>\n",
              "      <td>0.0</td>\n",
              "      <td>0.0</td>\n",
              "      <td>1.0</td>\n",
              "      <td>0.0</td>\n",
              "      <td>0.0</td>\n",
              "    </tr>\n",
              "    <tr>\n",
              "      <th>1</th>\n",
              "      <td>0.0</td>\n",
              "      <td>1.0</td>\n",
              "      <td>0.894737</td>\n",
              "      <td>0.881356</td>\n",
              "      <td>1.0</td>\n",
              "      <td>0.111111</td>\n",
              "      <td>0.600000</td>\n",
              "      <td>0.666667</td>\n",
              "      <td>0.809524</td>\n",
              "      <td>0.728622</td>\n",
              "      <td>0.0</td>\n",
              "      <td>0.0</td>\n",
              "      <td>0.0</td>\n",
              "      <td>0.0</td>\n",
              "      <td>0.0</td>\n",
              "      <td>0.0</td>\n",
              "      <td>0.0</td>\n",
              "    </tr>\n",
              "    <tr>\n",
              "      <th>2</th>\n",
              "      <td>1.0</td>\n",
              "      <td>0.0</td>\n",
              "      <td>0.175439</td>\n",
              "      <td>0.203390</td>\n",
              "      <td>0.0</td>\n",
              "      <td>0.333333</td>\n",
              "      <td>0.533333</td>\n",
              "      <td>1.000000</td>\n",
              "      <td>0.761905</td>\n",
              "      <td>0.169465</td>\n",
              "      <td>0.0</td>\n",
              "      <td>0.0</td>\n",
              "      <td>0.0</td>\n",
              "      <td>0.0</td>\n",
              "      <td>0.0</td>\n",
              "      <td>0.0</td>\n",
              "      <td>0.0</td>\n",
              "    </tr>\n",
              "    <tr>\n",
              "      <th>3</th>\n",
              "      <td>1.0</td>\n",
              "      <td>0.0</td>\n",
              "      <td>0.087719</td>\n",
              "      <td>0.118644</td>\n",
              "      <td>0.0</td>\n",
              "      <td>0.333333</td>\n",
              "      <td>0.600000</td>\n",
              "      <td>0.666667</td>\n",
              "      <td>0.809524</td>\n",
              "      <td>0.165715</td>\n",
              "      <td>0.0</td>\n",
              "      <td>0.0</td>\n",
              "      <td>0.0</td>\n",
              "      <td>0.0</td>\n",
              "      <td>0.0</td>\n",
              "      <td>0.0</td>\n",
              "      <td>0.0</td>\n",
              "    </tr>\n",
              "    <tr>\n",
              "      <th>4</th>\n",
              "      <td>0.0</td>\n",
              "      <td>0.0</td>\n",
              "      <td>1.000000</td>\n",
              "      <td>1.000000</td>\n",
              "      <td>0.0</td>\n",
              "      <td>0.333333</td>\n",
              "      <td>0.000000</td>\n",
              "      <td>0.666667</td>\n",
              "      <td>0.190476</td>\n",
              "      <td>0.493153</td>\n",
              "      <td>0.0</td>\n",
              "      <td>0.0</td>\n",
              "      <td>0.0</td>\n",
              "      <td>0.0</td>\n",
              "      <td>0.0</td>\n",
              "      <td>1.0</td>\n",
              "      <td>1.0</td>\n",
              "    </tr>\n",
              "    <tr>\n",
              "      <th>...</th>\n",
              "      <td>...</td>\n",
              "      <td>...</td>\n",
              "      <td>...</td>\n",
              "      <td>...</td>\n",
              "      <td>...</td>\n",
              "      <td>...</td>\n",
              "      <td>...</td>\n",
              "      <td>...</td>\n",
              "      <td>...</td>\n",
              "      <td>...</td>\n",
              "      <td>...</td>\n",
              "      <td>...</td>\n",
              "      <td>...</td>\n",
              "      <td>...</td>\n",
              "      <td>...</td>\n",
              "      <td>...</td>\n",
              "      <td>...</td>\n",
              "    </tr>\n",
              "    <tr>\n",
              "      <th>21800</th>\n",
              "      <td>0.0</td>\n",
              "      <td>0.0</td>\n",
              "      <td>0.473684</td>\n",
              "      <td>0.491525</td>\n",
              "      <td>0.0</td>\n",
              "      <td>0.111111</td>\n",
              "      <td>0.666667</td>\n",
              "      <td>0.000000</td>\n",
              "      <td>0.809524</td>\n",
              "      <td>0.331236</td>\n",
              "      <td>0.0</td>\n",
              "      <td>0.0</td>\n",
              "      <td>0.0</td>\n",
              "      <td>0.0</td>\n",
              "      <td>0.0</td>\n",
              "      <td>0.0</td>\n",
              "      <td>0.0</td>\n",
              "    </tr>\n",
              "    <tr>\n",
              "      <th>21801</th>\n",
              "      <td>0.0</td>\n",
              "      <td>0.0</td>\n",
              "      <td>0.719298</td>\n",
              "      <td>0.728814</td>\n",
              "      <td>0.0</td>\n",
              "      <td>0.555556</td>\n",
              "      <td>0.800000</td>\n",
              "      <td>0.666667</td>\n",
              "      <td>0.809524</td>\n",
              "      <td>0.465299</td>\n",
              "      <td>0.0</td>\n",
              "      <td>0.0</td>\n",
              "      <td>0.0</td>\n",
              "      <td>0.0</td>\n",
              "      <td>0.0</td>\n",
              "      <td>0.0</td>\n",
              "      <td>0.0</td>\n",
              "    </tr>\n",
              "    <tr>\n",
              "      <th>21802</th>\n",
              "      <td>0.0</td>\n",
              "      <td>0.0</td>\n",
              "      <td>0.982456</td>\n",
              "      <td>0.983051</td>\n",
              "      <td>0.0</td>\n",
              "      <td>0.333333</td>\n",
              "      <td>0.000000</td>\n",
              "      <td>0.666667</td>\n",
              "      <td>0.000000</td>\n",
              "      <td>0.378764</td>\n",
              "      <td>0.0</td>\n",
              "      <td>0.0</td>\n",
              "      <td>0.0</td>\n",
              "      <td>0.0</td>\n",
              "      <td>0.0</td>\n",
              "      <td>1.0</td>\n",
              "      <td>1.0</td>\n",
              "    </tr>\n",
              "    <tr>\n",
              "      <th>21803</th>\n",
              "      <td>1.0</td>\n",
              "      <td>0.0</td>\n",
              "      <td>0.122807</td>\n",
              "      <td>0.152542</td>\n",
              "      <td>0.0</td>\n",
              "      <td>0.444444</td>\n",
              "      <td>0.600000</td>\n",
              "      <td>0.000000</td>\n",
              "      <td>0.857143</td>\n",
              "      <td>0.226148</td>\n",
              "      <td>0.0</td>\n",
              "      <td>0.0</td>\n",
              "      <td>0.0</td>\n",
              "      <td>0.0</td>\n",
              "      <td>0.0</td>\n",
              "      <td>0.0</td>\n",
              "      <td>0.0</td>\n",
              "    </tr>\n",
              "    <tr>\n",
              "      <th>21804</th>\n",
              "      <td>0.0</td>\n",
              "      <td>0.0</td>\n",
              "      <td>0.964912</td>\n",
              "      <td>0.966102</td>\n",
              "      <td>0.0</td>\n",
              "      <td>0.222222</td>\n",
              "      <td>0.400000</td>\n",
              "      <td>0.333333</td>\n",
              "      <td>0.095238</td>\n",
              "      <td>0.505474</td>\n",
              "      <td>0.0</td>\n",
              "      <td>0.0</td>\n",
              "      <td>0.0</td>\n",
              "      <td>0.0</td>\n",
              "      <td>0.0</td>\n",
              "      <td>0.0</td>\n",
              "      <td>0.0</td>\n",
              "    </tr>\n",
              "  </tbody>\n",
              "</table>\n",
              "<p>21805 rows × 17 columns</p>\n",
              "</div>"
            ],
            "text/plain": [
              "       Accomodation_Type  ...  Holding_Policy_Type_is_missing\n",
              "0                    0.0  ...                             0.0\n",
              "1                    0.0  ...                             0.0\n",
              "2                    1.0  ...                             0.0\n",
              "3                    1.0  ...                             0.0\n",
              "4                    0.0  ...                             1.0\n",
              "...                  ...  ...                             ...\n",
              "21800                0.0  ...                             0.0\n",
              "21801                0.0  ...                             0.0\n",
              "21802                0.0  ...                             1.0\n",
              "21803                1.0  ...                             0.0\n",
              "21804                0.0  ...                             0.0\n",
              "\n",
              "[21805 rows x 17 columns]"
            ]
          },
          "metadata": {
            "tags": []
          },
          "execution_count": 532
        }
      ]
    },
    {
      "cell_type": "code",
      "metadata": {
        "id": "CMWr5V9hs573"
      },
      "source": [
        "test_pred = lg.predict(testdf_sc)\r\n",
        "test_pred_proba = lg.predict_proba(testdf_sc)\r\n",
        "testfile['Response_pred'] = test_pred\r\n",
        "testfile['Response_pred_prob0'] = test_pred_proba[:,0]\r\n",
        "testfile['Response_pred_prob1'] = test_pred_proba[:,1]"
      ],
      "execution_count": 533,
      "outputs": []
    },
    {
      "cell_type": "code",
      "metadata": {
        "colab": {
          "base_uri": "https://localhost:8080/",
          "height": 441
        },
        "id": "hV-Lw3exxCSC",
        "outputId": "46c2b512-be07-4f2e-a5ab-178e3e315196"
      },
      "source": [
        "testfile"
      ],
      "execution_count": 534,
      "outputs": [
        {
          "output_type": "execute_result",
          "data": {
            "text/html": [
              "<div>\n",
              "<style scoped>\n",
              "    .dataframe tbody tr th:only-of-type {\n",
              "        vertical-align: middle;\n",
              "    }\n",
              "\n",
              "    .dataframe tbody tr th {\n",
              "        vertical-align: top;\n",
              "    }\n",
              "\n",
              "    .dataframe thead th {\n",
              "        text-align: right;\n",
              "    }\n",
              "</style>\n",
              "<table border=\"1\" class=\"dataframe\">\n",
              "  <thead>\n",
              "    <tr style=\"text-align: right;\">\n",
              "      <th></th>\n",
              "      <th>ID</th>\n",
              "      <th>City_Code</th>\n",
              "      <th>Region_Code</th>\n",
              "      <th>Accomodation_Type</th>\n",
              "      <th>Reco_Insurance_Type</th>\n",
              "      <th>Upper_Age</th>\n",
              "      <th>Lower_Age</th>\n",
              "      <th>Is_Spouse</th>\n",
              "      <th>Health Indicator</th>\n",
              "      <th>Holding_Policy_Duration</th>\n",
              "      <th>Holding_Policy_Type</th>\n",
              "      <th>Reco_Policy_Cat</th>\n",
              "      <th>Reco_Policy_Premium</th>\n",
              "      <th>City_Code_is_missing</th>\n",
              "      <th>Accomodation_Type_is_missing</th>\n",
              "      <th>Reco_Insurance_Type_is_missing</th>\n",
              "      <th>Is_Spouse_is_missing</th>\n",
              "      <th>Health Indicator_is_missing</th>\n",
              "      <th>Holding_Policy_Duration_is_missing</th>\n",
              "      <th>Holding_Policy_Type_is_missing</th>\n",
              "      <th>Response_pred</th>\n",
              "      <th>Response_pred_prob0</th>\n",
              "      <th>Response_pred_prob1</th>\n",
              "    </tr>\n",
              "  </thead>\n",
              "  <tbody>\n",
              "    <tr>\n",
              "      <th>0</th>\n",
              "      <td>50883</td>\n",
              "      <td>1</td>\n",
              "      <td>156</td>\n",
              "      <td>1</td>\n",
              "      <td>1</td>\n",
              "      <td>30</td>\n",
              "      <td>30</td>\n",
              "      <td>1</td>\n",
              "      <td>0</td>\n",
              "      <td>12</td>\n",
              "      <td>3.0</td>\n",
              "      <td>5</td>\n",
              "      <td>11934.0</td>\n",
              "      <td>False</td>\n",
              "      <td>False</td>\n",
              "      <td>False</td>\n",
              "      <td>False</td>\n",
              "      <td>True</td>\n",
              "      <td>False</td>\n",
              "      <td>False</td>\n",
              "      <td>0</td>\n",
              "      <td>0.606472</td>\n",
              "      <td>0.393528</td>\n",
              "    </tr>\n",
              "    <tr>\n",
              "      <th>1</th>\n",
              "      <td>50884</td>\n",
              "      <td>31</td>\n",
              "      <td>7</td>\n",
              "      <td>1</td>\n",
              "      <td>2</td>\n",
              "      <td>69</td>\n",
              "      <td>68</td>\n",
              "      <td>2</td>\n",
              "      <td>1</td>\n",
              "      <td>9</td>\n",
              "      <td>3.0</td>\n",
              "      <td>18</td>\n",
              "      <td>32204.8</td>\n",
              "      <td>False</td>\n",
              "      <td>False</td>\n",
              "      <td>False</td>\n",
              "      <td>False</td>\n",
              "      <td>False</td>\n",
              "      <td>False</td>\n",
              "      <td>False</td>\n",
              "      <td>0</td>\n",
              "      <td>0.772007</td>\n",
              "      <td>0.227993</td>\n",
              "    </tr>\n",
              "    <tr>\n",
              "      <th>2</th>\n",
              "      <td>50885</td>\n",
              "      <td>1</td>\n",
              "      <td>564</td>\n",
              "      <td>2</td>\n",
              "      <td>1</td>\n",
              "      <td>28</td>\n",
              "      <td>28</td>\n",
              "      <td>1</td>\n",
              "      <td>3</td>\n",
              "      <td>8</td>\n",
              "      <td>4.0</td>\n",
              "      <td>17</td>\n",
              "      <td>9240.0</td>\n",
              "      <td>False</td>\n",
              "      <td>False</td>\n",
              "      <td>False</td>\n",
              "      <td>False</td>\n",
              "      <td>False</td>\n",
              "      <td>False</td>\n",
              "      <td>False</td>\n",
              "      <td>0</td>\n",
              "      <td>0.765896</td>\n",
              "      <td>0.234104</td>\n",
              "    </tr>\n",
              "    <tr>\n",
              "      <th>3</th>\n",
              "      <td>50886</td>\n",
              "      <td>23</td>\n",
              "      <td>1177</td>\n",
              "      <td>2</td>\n",
              "      <td>1</td>\n",
              "      <td>23</td>\n",
              "      <td>23</td>\n",
              "      <td>1</td>\n",
              "      <td>3</td>\n",
              "      <td>9</td>\n",
              "      <td>3.0</td>\n",
              "      <td>18</td>\n",
              "      <td>9086.0</td>\n",
              "      <td>False</td>\n",
              "      <td>False</td>\n",
              "      <td>False</td>\n",
              "      <td>False</td>\n",
              "      <td>False</td>\n",
              "      <td>False</td>\n",
              "      <td>False</td>\n",
              "      <td>0</td>\n",
              "      <td>0.766751</td>\n",
              "      <td>0.233249</td>\n",
              "    </tr>\n",
              "    <tr>\n",
              "      <th>4</th>\n",
              "      <td>50887</td>\n",
              "      <td>1</td>\n",
              "      <td>951</td>\n",
              "      <td>1</td>\n",
              "      <td>1</td>\n",
              "      <td>75</td>\n",
              "      <td>75</td>\n",
              "      <td>1</td>\n",
              "      <td>3</td>\n",
              "      <td>0</td>\n",
              "      <td>3.0</td>\n",
              "      <td>5</td>\n",
              "      <td>22534.0</td>\n",
              "      <td>False</td>\n",
              "      <td>False</td>\n",
              "      <td>False</td>\n",
              "      <td>False</td>\n",
              "      <td>False</td>\n",
              "      <td>True</td>\n",
              "      <td>True</td>\n",
              "      <td>0</td>\n",
              "      <td>0.692227</td>\n",
              "      <td>0.307773</td>\n",
              "    </tr>\n",
              "    <tr>\n",
              "      <th>...</th>\n",
              "      <td>...</td>\n",
              "      <td>...</td>\n",
              "      <td>...</td>\n",
              "      <td>...</td>\n",
              "      <td>...</td>\n",
              "      <td>...</td>\n",
              "      <td>...</td>\n",
              "      <td>...</td>\n",
              "      <td>...</td>\n",
              "      <td>...</td>\n",
              "      <td>...</td>\n",
              "      <td>...</td>\n",
              "      <td>...</td>\n",
              "      <td>...</td>\n",
              "      <td>...</td>\n",
              "      <td>...</td>\n",
              "      <td>...</td>\n",
              "      <td>...</td>\n",
              "      <td>...</td>\n",
              "      <td>...</td>\n",
              "      <td>...</td>\n",
              "      <td>...</td>\n",
              "      <td>...</td>\n",
              "    </tr>\n",
              "    <tr>\n",
              "      <th>21800</th>\n",
              "      <td>72683</td>\n",
              "      <td>23</td>\n",
              "      <td>1044</td>\n",
              "      <td>1</td>\n",
              "      <td>1</td>\n",
              "      <td>45</td>\n",
              "      <td>45</td>\n",
              "      <td>1</td>\n",
              "      <td>1</td>\n",
              "      <td>10</td>\n",
              "      <td>1.0</td>\n",
              "      <td>18</td>\n",
              "      <td>15884.0</td>\n",
              "      <td>False</td>\n",
              "      <td>False</td>\n",
              "      <td>False</td>\n",
              "      <td>False</td>\n",
              "      <td>False</td>\n",
              "      <td>False</td>\n",
              "      <td>False</td>\n",
              "      <td>0</td>\n",
              "      <td>0.823163</td>\n",
              "      <td>0.176837</td>\n",
              "    </tr>\n",
              "    <tr>\n",
              "      <th>21801</th>\n",
              "      <td>72684</td>\n",
              "      <td>31</td>\n",
              "      <td>266</td>\n",
              "      <td>1</td>\n",
              "      <td>1</td>\n",
              "      <td>59</td>\n",
              "      <td>59</td>\n",
              "      <td>1</td>\n",
              "      <td>5</td>\n",
              "      <td>12</td>\n",
              "      <td>3.0</td>\n",
              "      <td>18</td>\n",
              "      <td>21390.0</td>\n",
              "      <td>False</td>\n",
              "      <td>False</td>\n",
              "      <td>False</td>\n",
              "      <td>False</td>\n",
              "      <td>False</td>\n",
              "      <td>False</td>\n",
              "      <td>False</td>\n",
              "      <td>0</td>\n",
              "      <td>0.755834</td>\n",
              "      <td>0.244166</td>\n",
              "    </tr>\n",
              "    <tr>\n",
              "      <th>21802</th>\n",
              "      <td>72685</td>\n",
              "      <td>4</td>\n",
              "      <td>2470</td>\n",
              "      <td>1</td>\n",
              "      <td>1</td>\n",
              "      <td>74</td>\n",
              "      <td>74</td>\n",
              "      <td>1</td>\n",
              "      <td>3</td>\n",
              "      <td>0</td>\n",
              "      <td>3.0</td>\n",
              "      <td>1</td>\n",
              "      <td>17836.0</td>\n",
              "      <td>False</td>\n",
              "      <td>False</td>\n",
              "      <td>False</td>\n",
              "      <td>False</td>\n",
              "      <td>False</td>\n",
              "      <td>True</td>\n",
              "      <td>True</td>\n",
              "      <td>0</td>\n",
              "      <td>0.997291</td>\n",
              "      <td>0.002709</td>\n",
              "    </tr>\n",
              "    <tr>\n",
              "      <th>21803</th>\n",
              "      <td>72686</td>\n",
              "      <td>2</td>\n",
              "      <td>1676</td>\n",
              "      <td>2</td>\n",
              "      <td>1</td>\n",
              "      <td>25</td>\n",
              "      <td>25</td>\n",
              "      <td>1</td>\n",
              "      <td>4</td>\n",
              "      <td>9</td>\n",
              "      <td>1.0</td>\n",
              "      <td>19</td>\n",
              "      <td>11568.0</td>\n",
              "      <td>False</td>\n",
              "      <td>False</td>\n",
              "      <td>False</td>\n",
              "      <td>False</td>\n",
              "      <td>False</td>\n",
              "      <td>False</td>\n",
              "      <td>False</td>\n",
              "      <td>0</td>\n",
              "      <td>0.736523</td>\n",
              "      <td>0.263477</td>\n",
              "    </tr>\n",
              "    <tr>\n",
              "      <th>21804</th>\n",
              "      <td>72687</td>\n",
              "      <td>12</td>\n",
              "      <td>3617</td>\n",
              "      <td>1</td>\n",
              "      <td>1</td>\n",
              "      <td>73</td>\n",
              "      <td>73</td>\n",
              "      <td>1</td>\n",
              "      <td>2</td>\n",
              "      <td>6</td>\n",
              "      <td>2.0</td>\n",
              "      <td>3</td>\n",
              "      <td>23040.0</td>\n",
              "      <td>False</td>\n",
              "      <td>False</td>\n",
              "      <td>False</td>\n",
              "      <td>False</td>\n",
              "      <td>False</td>\n",
              "      <td>False</td>\n",
              "      <td>False</td>\n",
              "      <td>0</td>\n",
              "      <td>0.903352</td>\n",
              "      <td>0.096648</td>\n",
              "    </tr>\n",
              "  </tbody>\n",
              "</table>\n",
              "<p>21805 rows × 23 columns</p>\n",
              "</div>"
            ],
            "text/plain": [
              "          ID  City_Code  ...  Response_pred_prob0  Response_pred_prob1\n",
              "0      50883          1  ...             0.606472             0.393528\n",
              "1      50884         31  ...             0.772007             0.227993\n",
              "2      50885          1  ...             0.765896             0.234104\n",
              "3      50886         23  ...             0.766751             0.233249\n",
              "4      50887          1  ...             0.692227             0.307773\n",
              "...      ...        ...  ...                  ...                  ...\n",
              "21800  72683         23  ...             0.823163             0.176837\n",
              "21801  72684         31  ...             0.755834             0.244166\n",
              "21802  72685          4  ...             0.997291             0.002709\n",
              "21803  72686          2  ...             0.736523             0.263477\n",
              "21804  72687         12  ...             0.903352             0.096648\n",
              "\n",
              "[21805 rows x 23 columns]"
            ]
          },
          "metadata": {
            "tags": []
          },
          "execution_count": 534
        }
      ]
    },
    {
      "cell_type": "code",
      "metadata": {
        "id": "ryj2LCT_5Su9"
      },
      "source": [
        "submission = pd.DataFrame()\r\n",
        "submission['ID'] = testfile['ID']\r\n",
        "submission['Response'] = testfile['Response_pred_prob1']"
      ],
      "execution_count": 535,
      "outputs": []
    },
    {
      "cell_type": "code",
      "metadata": {
        "colab": {
          "base_uri": "https://localhost:8080/",
          "height": 404
        },
        "id": "8q1bzmsO5S01",
        "outputId": "1e5cb536-05c0-4b76-a08c-3e0430904f81"
      },
      "source": [
        "submission"
      ],
      "execution_count": 536,
      "outputs": [
        {
          "output_type": "execute_result",
          "data": {
            "text/html": [
              "<div>\n",
              "<style scoped>\n",
              "    .dataframe tbody tr th:only-of-type {\n",
              "        vertical-align: middle;\n",
              "    }\n",
              "\n",
              "    .dataframe tbody tr th {\n",
              "        vertical-align: top;\n",
              "    }\n",
              "\n",
              "    .dataframe thead th {\n",
              "        text-align: right;\n",
              "    }\n",
              "</style>\n",
              "<table border=\"1\" class=\"dataframe\">\n",
              "  <thead>\n",
              "    <tr style=\"text-align: right;\">\n",
              "      <th></th>\n",
              "      <th>ID</th>\n",
              "      <th>Response</th>\n",
              "    </tr>\n",
              "  </thead>\n",
              "  <tbody>\n",
              "    <tr>\n",
              "      <th>0</th>\n",
              "      <td>50883</td>\n",
              "      <td>0.393528</td>\n",
              "    </tr>\n",
              "    <tr>\n",
              "      <th>1</th>\n",
              "      <td>50884</td>\n",
              "      <td>0.227993</td>\n",
              "    </tr>\n",
              "    <tr>\n",
              "      <th>2</th>\n",
              "      <td>50885</td>\n",
              "      <td>0.234104</td>\n",
              "    </tr>\n",
              "    <tr>\n",
              "      <th>3</th>\n",
              "      <td>50886</td>\n",
              "      <td>0.233249</td>\n",
              "    </tr>\n",
              "    <tr>\n",
              "      <th>4</th>\n",
              "      <td>50887</td>\n",
              "      <td>0.307773</td>\n",
              "    </tr>\n",
              "    <tr>\n",
              "      <th>...</th>\n",
              "      <td>...</td>\n",
              "      <td>...</td>\n",
              "    </tr>\n",
              "    <tr>\n",
              "      <th>21800</th>\n",
              "      <td>72683</td>\n",
              "      <td>0.176837</td>\n",
              "    </tr>\n",
              "    <tr>\n",
              "      <th>21801</th>\n",
              "      <td>72684</td>\n",
              "      <td>0.244166</td>\n",
              "    </tr>\n",
              "    <tr>\n",
              "      <th>21802</th>\n",
              "      <td>72685</td>\n",
              "      <td>0.002709</td>\n",
              "    </tr>\n",
              "    <tr>\n",
              "      <th>21803</th>\n",
              "      <td>72686</td>\n",
              "      <td>0.263477</td>\n",
              "    </tr>\n",
              "    <tr>\n",
              "      <th>21804</th>\n",
              "      <td>72687</td>\n",
              "      <td>0.096648</td>\n",
              "    </tr>\n",
              "  </tbody>\n",
              "</table>\n",
              "<p>21805 rows × 2 columns</p>\n",
              "</div>"
            ],
            "text/plain": [
              "          ID  Response\n",
              "0      50883  0.393528\n",
              "1      50884  0.227993\n",
              "2      50885  0.234104\n",
              "3      50886  0.233249\n",
              "4      50887  0.307773\n",
              "...      ...       ...\n",
              "21800  72683  0.176837\n",
              "21801  72684  0.244166\n",
              "21802  72685  0.002709\n",
              "21803  72686  0.263477\n",
              "21804  72687  0.096648\n",
              "\n",
              "[21805 rows x 2 columns]"
            ]
          },
          "metadata": {
            "tags": []
          },
          "execution_count": 536
        }
      ]
    },
    {
      "cell_type": "code",
      "metadata": {
        "colab": {
          "base_uri": "https://localhost:8080/",
          "height": 17
        },
        "id": "vCy3VYMixuc8",
        "outputId": "660aea56-aab6-4313-bec0-102951ca1be5"
      },
      "source": [
        "from google.colab import files\r\n",
        "filepath='18_my_submission_CT_LG.csv'\r\n",
        "submission.to_csv(filepath, index=False)\r\n",
        "files.download(filepath)"
      ],
      "execution_count": 537,
      "outputs": [
        {
          "output_type": "display_data",
          "data": {
            "application/javascript": [
              "\n",
              "    async function download(id, filename, size) {\n",
              "      if (!google.colab.kernel.accessAllowed) {\n",
              "        return;\n",
              "      }\n",
              "      const div = document.createElement('div');\n",
              "      const label = document.createElement('label');\n",
              "      label.textContent = `Downloading \"${filename}\": `;\n",
              "      div.appendChild(label);\n",
              "      const progress = document.createElement('progress');\n",
              "      progress.max = size;\n",
              "      div.appendChild(progress);\n",
              "      document.body.appendChild(div);\n",
              "\n",
              "      const buffers = [];\n",
              "      let downloaded = 0;\n",
              "\n",
              "      const channel = await google.colab.kernel.comms.open(id);\n",
              "      // Send a message to notify the kernel that we're ready.\n",
              "      channel.send({})\n",
              "\n",
              "      for await (const message of channel.messages) {\n",
              "        // Send a message to notify the kernel that we're ready.\n",
              "        channel.send({})\n",
              "        if (message.buffers) {\n",
              "          for (const buffer of message.buffers) {\n",
              "            buffers.push(buffer);\n",
              "            downloaded += buffer.byteLength;\n",
              "            progress.value = downloaded;\n",
              "          }\n",
              "        }\n",
              "      }\n",
              "      const blob = new Blob(buffers, {type: 'application/binary'});\n",
              "      const a = document.createElement('a');\n",
              "      a.href = window.URL.createObjectURL(blob);\n",
              "      a.download = filename;\n",
              "      div.appendChild(a);\n",
              "      a.click();\n",
              "      div.remove();\n",
              "    }\n",
              "  "
            ],
            "text/plain": [
              "<IPython.core.display.Javascript object>"
            ]
          },
          "metadata": {
            "tags": []
          }
        },
        {
          "output_type": "display_data",
          "data": {
            "application/javascript": [
              "download(\"download_f9204498-aab5-4a60-90ae-cd5dd23b3bdb\", \"18_my_submission_CT_LG.csv\", 558983)"
            ],
            "text/plain": [
              "<IPython.core.display.Javascript object>"
            ]
          },
          "metadata": {
            "tags": []
          }
        }
      ]
    },
    {
      "cell_type": "code",
      "metadata": {
        "id": "tB4uYNxp675a"
      },
      "source": [
        ""
      ],
      "execution_count": null,
      "outputs": []
    }
  ]
}